{
  "nbformat": 4,
  "nbformat_minor": 0,
  "metadata": {
    "colab": {
      "name": "result_LSTM.ipynb",
      "provenance": [],
      "collapsed_sections": [],
      "authorship_tag": "ABX9TyMwEmiT2uCuwm3SATuMrSLu",
      "include_colab_link": true
    },
    "kernelspec": {
      "name": "python3",
      "display_name": "Python 3"
    },
    "language_info": {
      "name": "python"
    }
  },
  "cells": [
    {
      "cell_type": "markdown",
      "metadata": {
        "id": "view-in-github",
        "colab_type": "text"
      },
      "source": [
        "<a href=\"https://colab.research.google.com/github/gulshan2803/Python/blob/main/result_LSTM.ipynb\" target=\"_parent\"><img src=\"https://colab.research.google.com/assets/colab-badge.svg\" alt=\"Open In Colab\"/></a>"
      ]
    },
    {
      "cell_type": "code",
      "metadata": {
        "id": "aUXTCfihZhg3"
      },
      "source": [
        "import numpy \n",
        "import matplotlib.pyplot as plt\n",
        "from pandas import read_csv\n",
        "import math\n",
        "from keras.models import Sequential\n",
        "from keras.layers import Dense \n",
        "from keras.layers import LSTM\n",
        "from sklearn.preprocessing import MinMaxScaler\n",
        "from sklearn.metrics import mean_squared_error\n",
        "\n",
        "\n"
      ],
      "execution_count": null,
      "outputs": []
    },
    {
      "cell_type": "code",
      "metadata": {
        "id": "sXdUJfYnfxL3"
      },
      "source": [
        "\n",
        "\n",
        "def create_dataset(dataset, look_back=1):\n",
        "  dataX, dataY = [], []\n",
        "  for i in range(len(dataset)-look_back-1):\n",
        "    a = dataset[i:(i + look_back), 0]\n",
        "    dataX.append(a)\n",
        "    dataY.append(dataset[i + look_back,0])\n",
        "  return numpy.array(dataX), numpy.array(dataY)\n",
        "\n"
      ],
      "execution_count": null,
      "outputs": []
    },
    {
      "cell_type": "code",
      "metadata": {
        "id": "tNwE-l3wgJ0q"
      },
      "source": [
        "numpy.random.seed(4)\n",
        "\n",
        "dataframe = read_csv('result.csv', usecols=[1], engine='python')\n",
        "dataset = dataframe.values\n",
        "dataset = dataset.astype('float32')\n",
        "\n",
        "scaler = MinMaxScaler(feature_range=(0,1))\n",
        "dataset = scaler.fit_transform(dataset)\n",
        "\n",
        "train_size = int(len(dataset) *0.70)\n",
        "test_size = len(dataset) - train_size\n",
        "train, test = dataset[0:train_size,:], dataset[train_size:len(dataset),:]\n",
        "\n",
        "look_back = 1\n",
        "trainX, trainY = create_dataset(train, look_back)\n",
        "testX, testY = create_dataset(test, look_back)\n",
        "\n"
      ],
      "execution_count": null,
      "outputs": []
    },
    {
      "cell_type": "code",
      "metadata": {
        "colab": {
          "base_uri": "https://localhost:8080/"
        },
        "id": "Ahp_5YKjhZBQ",
        "outputId": "efb75606-0143-4eb0-d364-d48f639fd157"
      },
      "source": [
        "model = Sequential()\n",
        "model.add(LSTM(2, input_shape=(1, look_back)))\n",
        "model.add(Dense(1))\n",
        "model.compile(loss='mean_squared_error', optimizer='adam')\n",
        "model.fit(trainX, trainY, epochs=100, batch_size=1, verbose=2)"
      ],
      "execution_count": null,
      "outputs": [
        {
          "output_type": "stream",
          "name": "stdout",
          "text": [
            "Epoch 1/100\n",
            "2/2 - 2s - loss: 0.0011 - 2s/epoch - 779ms/step\n",
            "Epoch 2/100\n",
            "2/2 - 0s - loss: 0.0010 - 9ms/epoch - 4ms/step\n",
            "Epoch 3/100\n",
            "2/2 - 0s - loss: 9.2090e-04 - 9ms/epoch - 5ms/step\n",
            "Epoch 4/100\n",
            "2/2 - 0s - loss: 8.3891e-04 - 10ms/epoch - 5ms/step\n",
            "Epoch 5/100\n",
            "2/2 - 0s - loss: 8.0793e-04 - 7ms/epoch - 4ms/step\n",
            "Epoch 6/100\n",
            "2/2 - 0s - loss: 7.3367e-04 - 10ms/epoch - 5ms/step\n",
            "Epoch 7/100\n",
            "2/2 - 0s - loss: 6.3434e-04 - 10ms/epoch - 5ms/step\n",
            "Epoch 8/100\n",
            "2/2 - 0s - loss: 6.2270e-04 - 6ms/epoch - 3ms/step\n",
            "Epoch 9/100\n",
            "2/2 - 0s - loss: 5.7571e-04 - 6ms/epoch - 3ms/step\n",
            "Epoch 10/100\n",
            "2/2 - 0s - loss: 5.0780e-04 - 8ms/epoch - 4ms/step\n",
            "Epoch 11/100\n",
            "2/2 - 0s - loss: 4.8011e-04 - 9ms/epoch - 5ms/step\n",
            "Epoch 12/100\n",
            "2/2 - 0s - loss: 4.5623e-04 - 7ms/epoch - 3ms/step\n",
            "Epoch 13/100\n",
            "2/2 - 0s - loss: 4.5818e-04 - 6ms/epoch - 3ms/step\n",
            "Epoch 14/100\n",
            "2/2 - 0s - loss: 4.1673e-04 - 6ms/epoch - 3ms/step\n",
            "Epoch 15/100\n",
            "2/2 - 0s - loss: 4.0199e-04 - 9ms/epoch - 5ms/step\n",
            "Epoch 16/100\n",
            "2/2 - 0s - loss: 3.8903e-04 - 5ms/epoch - 3ms/step\n",
            "Epoch 17/100\n",
            "2/2 - 0s - loss: 3.9159e-04 - 8ms/epoch - 4ms/step\n",
            "Epoch 18/100\n",
            "2/2 - 0s - loss: 3.6697e-04 - 7ms/epoch - 3ms/step\n",
            "Epoch 19/100\n",
            "2/2 - 0s - loss: 3.6776e-04 - 8ms/epoch - 4ms/step\n",
            "Epoch 20/100\n",
            "2/2 - 0s - loss: 3.4906e-04 - 14ms/epoch - 7ms/step\n",
            "Epoch 21/100\n",
            "2/2 - 0s - loss: 3.4758e-04 - 11ms/epoch - 5ms/step\n",
            "Epoch 22/100\n",
            "2/2 - 0s - loss: 3.3308e-04 - 7ms/epoch - 4ms/step\n",
            "Epoch 23/100\n",
            "2/2 - 0s - loss: 3.2506e-04 - 6ms/epoch - 3ms/step\n",
            "Epoch 24/100\n",
            "2/2 - 0s - loss: 3.2062e-04 - 10ms/epoch - 5ms/step\n",
            "Epoch 25/100\n",
            "2/2 - 0s - loss: 3.0991e-04 - 7ms/epoch - 3ms/step\n",
            "Epoch 26/100\n",
            "2/2 - 0s - loss: 3.0367e-04 - 9ms/epoch - 4ms/step\n",
            "Epoch 27/100\n",
            "2/2 - 0s - loss: 2.9548e-04 - 8ms/epoch - 4ms/step\n",
            "Epoch 28/100\n",
            "2/2 - 0s - loss: 2.8741e-04 - 11ms/epoch - 5ms/step\n",
            "Epoch 29/100\n",
            "2/2 - 0s - loss: 2.7943e-04 - 8ms/epoch - 4ms/step\n",
            "Epoch 30/100\n",
            "2/2 - 0s - loss: 2.7155e-04 - 6ms/epoch - 3ms/step\n",
            "Epoch 31/100\n",
            "2/2 - 0s - loss: 2.6577e-04 - 12ms/epoch - 6ms/step\n",
            "Epoch 32/100\n",
            "2/2 - 0s - loss: 2.5591e-04 - 6ms/epoch - 3ms/step\n",
            "Epoch 33/100\n",
            "2/2 - 0s - loss: 2.4843e-04 - 9ms/epoch - 5ms/step\n",
            "Epoch 34/100\n",
            "2/2 - 0s - loss: 2.4343e-04 - 12ms/epoch - 6ms/step\n",
            "Epoch 35/100\n",
            "2/2 - 0s - loss: 2.3377e-04 - 6ms/epoch - 3ms/step\n",
            "Epoch 36/100\n",
            "2/2 - 0s - loss: 2.2676e-04 - 5ms/epoch - 2ms/step\n",
            "Epoch 37/100\n",
            "2/2 - 0s - loss: 2.2214e-04 - 8ms/epoch - 4ms/step\n",
            "Epoch 38/100\n",
            "2/2 - 0s - loss: 2.1316e-04 - 11ms/epoch - 5ms/step\n",
            "Epoch 39/100\n",
            "2/2 - 0s - loss: 2.0661e-04 - 11ms/epoch - 6ms/step\n",
            "Epoch 40/100\n",
            "2/2 - 0s - loss: 2.0020e-04 - 6ms/epoch - 3ms/step\n",
            "Epoch 41/100\n",
            "2/2 - 0s - loss: 1.9588e-04 - 12ms/epoch - 6ms/step\n",
            "Epoch 42/100\n",
            "2/2 - 0s - loss: 1.8790e-04 - 7ms/epoch - 4ms/step\n",
            "Epoch 43/100\n",
            "2/2 - 0s - loss: 1.8193e-04 - 11ms/epoch - 6ms/step\n",
            "Epoch 44/100\n",
            "2/2 - 0s - loss: 1.7609e-04 - 11ms/epoch - 6ms/step\n",
            "Epoch 45/100\n",
            "2/2 - 0s - loss: 1.7039e-04 - 6ms/epoch - 3ms/step\n",
            "Epoch 46/100\n",
            "2/2 - 0s - loss: 1.6482e-04 - 9ms/epoch - 5ms/step\n",
            "Epoch 47/100\n",
            "2/2 - 0s - loss: 1.6085e-04 - 7ms/epoch - 3ms/step\n",
            "Epoch 48/100\n",
            "2/2 - 0s - loss: 1.5422e-04 - 12ms/epoch - 6ms/step\n",
            "Epoch 49/100\n",
            "2/2 - 0s - loss: 1.4904e-04 - 5ms/epoch - 3ms/step\n",
            "Epoch 50/100\n",
            "2/2 - 0s - loss: 1.4502e-04 - 12ms/epoch - 6ms/step\n",
            "Epoch 51/100\n",
            "2/2 - 0s - loss: 1.3921e-04 - 6ms/epoch - 3ms/step\n",
            "Epoch 52/100\n",
            "2/2 - 0s - loss: 1.3438e-04 - 11ms/epoch - 5ms/step\n",
            "Epoch 53/100\n",
            "2/2 - 0s - loss: 1.3040e-04 - 5ms/epoch - 3ms/step\n",
            "Epoch 54/100\n",
            "2/2 - 0s - loss: 1.2567e-04 - 10ms/epoch - 5ms/step\n",
            "Epoch 55/100\n",
            "2/2 - 0s - loss: 1.2109e-04 - 7ms/epoch - 3ms/step\n",
            "Epoch 56/100\n",
            "2/2 - 0s - loss: 1.1673e-04 - 8ms/epoch - 4ms/step\n",
            "Epoch 57/100\n",
            "2/2 - 0s - loss: 1.1246e-04 - 9ms/epoch - 4ms/step\n",
            "Epoch 58/100\n",
            "2/2 - 0s - loss: 1.0842e-04 - 12ms/epoch - 6ms/step\n",
            "Epoch 59/100\n",
            "2/2 - 0s - loss: 1.0433e-04 - 9ms/epoch - 4ms/step\n",
            "Epoch 60/100\n",
            "2/2 - 0s - loss: 1.0039e-04 - 11ms/epoch - 6ms/step\n",
            "Epoch 61/100\n",
            "2/2 - 0s - loss: 9.6565e-05 - 5ms/epoch - 2ms/step\n",
            "Epoch 62/100\n",
            "2/2 - 0s - loss: 9.2866e-05 - 7ms/epoch - 4ms/step\n",
            "Epoch 63/100\n",
            "2/2 - 0s - loss: 8.9736e-05 - 12ms/epoch - 6ms/step\n",
            "Epoch 64/100\n",
            "2/2 - 0s - loss: 8.6172e-05 - 9ms/epoch - 4ms/step\n",
            "Epoch 65/100\n",
            "2/2 - 0s - loss: 8.2737e-05 - 11ms/epoch - 5ms/step\n",
            "Epoch 66/100\n",
            "2/2 - 0s - loss: 7.9421e-05 - 11ms/epoch - 6ms/step\n",
            "Epoch 67/100\n",
            "2/2 - 0s - loss: 7.6326e-05 - 9ms/epoch - 4ms/step\n",
            "Epoch 68/100\n",
            "2/2 - 0s - loss: 7.3232e-05 - 11ms/epoch - 6ms/step\n",
            "Epoch 69/100\n",
            "2/2 - 0s - loss: 7.0305e-05 - 12ms/epoch - 6ms/step\n",
            "Epoch 70/100\n",
            "2/2 - 0s - loss: 6.7392e-05 - 12ms/epoch - 6ms/step\n",
            "Epoch 71/100\n",
            "2/2 - 0s - loss: 6.4587e-05 - 9ms/epoch - 5ms/step\n",
            "Epoch 72/100\n",
            "2/2 - 0s - loss: 6.1882e-05 - 9ms/epoch - 5ms/step\n",
            "Epoch 73/100\n",
            "2/2 - 0s - loss: 5.9271e-05 - 9ms/epoch - 5ms/step\n",
            "Epoch 74/100\n",
            "2/2 - 0s - loss: 5.7165e-05 - 10ms/epoch - 5ms/step\n",
            "Epoch 75/100\n",
            "2/2 - 0s - loss: 5.4647e-05 - 12ms/epoch - 6ms/step\n",
            "Epoch 76/100\n",
            "2/2 - 0s - loss: 5.2037e-05 - 9ms/epoch - 4ms/step\n",
            "Epoch 77/100\n",
            "2/2 - 0s - loss: 5.0025e-05 - 10ms/epoch - 5ms/step\n",
            "Epoch 78/100\n",
            "2/2 - 0s - loss: 4.7781e-05 - 10ms/epoch - 5ms/step\n",
            "Epoch 79/100\n",
            "2/2 - 0s - loss: 4.5552e-05 - 16ms/epoch - 8ms/step\n",
            "Epoch 80/100\n",
            "2/2 - 0s - loss: 4.3643e-05 - 10ms/epoch - 5ms/step\n",
            "Epoch 81/100\n",
            "2/2 - 0s - loss: 4.1643e-05 - 11ms/epoch - 6ms/step\n",
            "Epoch 82/100\n",
            "2/2 - 0s - loss: 3.9724e-05 - 11ms/epoch - 5ms/step\n",
            "Epoch 83/100\n",
            "2/2 - 0s - loss: 3.7882e-05 - 7ms/epoch - 4ms/step\n",
            "Epoch 84/100\n",
            "2/2 - 0s - loss: 3.6113e-05 - 10ms/epoch - 5ms/step\n",
            "Epoch 85/100\n",
            "2/2 - 0s - loss: 3.4564e-05 - 9ms/epoch - 4ms/step\n",
            "Epoch 86/100\n",
            "2/2 - 0s - loss: 3.2905e-05 - 7ms/epoch - 4ms/step\n",
            "Epoch 87/100\n",
            "2/2 - 0s - loss: 3.1322e-05 - 8ms/epoch - 4ms/step\n",
            "Epoch 88/100\n",
            "2/2 - 0s - loss: 2.9887e-05 - 8ms/epoch - 4ms/step\n",
            "Epoch 89/100\n",
            "2/2 - 0s - loss: 2.8381e-05 - 11ms/epoch - 5ms/step\n",
            "Epoch 90/100\n",
            "2/2 - 0s - loss: 2.6990e-05 - 10ms/epoch - 5ms/step\n",
            "Epoch 91/100\n",
            "2/2 - 0s - loss: 2.5658e-05 - 9ms/epoch - 4ms/step\n",
            "Epoch 92/100\n",
            "2/2 - 0s - loss: 2.4580e-05 - 12ms/epoch - 6ms/step\n",
            "Epoch 93/100\n",
            "2/2 - 0s - loss: 2.3318e-05 - 11ms/epoch - 5ms/step\n",
            "Epoch 94/100\n",
            "2/2 - 0s - loss: 2.2011e-05 - 7ms/epoch - 3ms/step\n",
            "Epoch 95/100\n",
            "2/2 - 0s - loss: 2.0890e-05 - 10ms/epoch - 5ms/step\n",
            "Epoch 96/100\n",
            "2/2 - 0s - loss: 1.9984e-05 - 13ms/epoch - 7ms/step\n",
            "Epoch 97/100\n",
            "2/2 - 0s - loss: 1.8805e-05 - 8ms/epoch - 4ms/step\n",
            "Epoch 98/100\n",
            "2/2 - 0s - loss: 1.7968e-05 - 12ms/epoch - 6ms/step\n",
            "Epoch 99/100\n",
            "2/2 - 0s - loss: 1.6903e-05 - 11ms/epoch - 5ms/step\n",
            "Epoch 100/100\n",
            "2/2 - 0s - loss: 1.6007e-05 - 11ms/epoch - 6ms/step\n"
          ]
        },
        {
          "output_type": "execute_result",
          "data": {
            "text/plain": [
              "<keras.callbacks.History at 0x7f80bd5e9450>"
            ]
          },
          "metadata": {},
          "execution_count": 20
        }
      ]
    },
    {
      "cell_type": "code",
      "metadata": {
        "id": "mT60MgkWhtOT"
      },
      "source": [
        "trainPredict = model.predict(trainX)\n",
        "testPredict = model.predict(testX)\n",
        "\n",
        "trainPredict = scaler.inverse_transform(trainPredict)\n",
        "trainY = scaler.inverse_transform([trainY])\n",
        "testPredict = scaler.inverse_transform(testPredict)\n",
        "testY = scaler.inverse_transform([testY])\n"
      ],
      "execution_count": null,
      "outputs": []
    },
    {
      "cell_type": "code",
      "metadata": {
        "id": "wio-_hLmKZEn"
      },
      "source": [
        ""
      ],
      "execution_count": null,
      "outputs": []
    },
    {
      "cell_type": "code",
      "metadata": {
        "colab": {
          "base_uri": "https://localhost:8080/",
          "height": 300
        },
        "id": "76ZvBICUikge",
        "outputId": "acc43546-335c-4518-d405-6ba6c12acdde"
      },
      "source": [
        "trainScore = math.sqrt(mean_squared_error(trainY[0], trainPredict[:,0]))\n",
        "print('Train Score: %.2f RMSE' %(trainScore))\n",
        "testScore = math.sqrt(mean_squared_error(testY[0], testPredict[:,0]))\n",
        "print('Test Score: %.2f RMSE' %(testScore))\n",
        "\n",
        "trainPredictPlot = numpy.empty_like(dataset)\n",
        "trainPredictPlot[:, :] = numpy.nan\n",
        "trainPredictPlot[look_back:len(trainPredict)+look_back, :] = trainPredict\n",
        "\n",
        "testPredictPlot = numpy.empty_like(dataset)\n",
        "testPredictPlot[:, :] = numpy.nan\n",
        "testPredictPlot[len(trainPredict)+(look_back*2)+1:len(dataset)-1, :] = testPredict\n",
        "\n",
        "plt.plot(scaler.inverse_transform(dataset))\n",
        "plt.plot(trainPredictPlot)\n",
        "plt.plot(testPredictPlot)\n",
        "plt.show()\n"
      ],
      "execution_count": null,
      "outputs": [
        {
          "output_type": "stream",
          "name": "stdout",
          "text": [
            "Train Score: 0.00 RMSE\n",
            "Test Score: 1.00 RMSE\n"
          ]
        },
        {
          "output_type": "display_data",
          "data": {
            "image/png": "[encoded data removed]",
            "text/plain": [
              "<Figure size 432x288 with 1 Axes>"
            ]
          },
          "metadata": {
            "needs_background": "light"
          }
        }
      ]
    },
    {
      "cell_type": "code",
      "metadata": {
        "colab": {
          "base_uri": "https://localhost:8080/"
        },
        "id": "nffbWCoOKaVX",
        "outputId": "4593d146-a85d-4771-eba2-e17976b38327"
      },
      "source": [
        "print(testPredictPlot)\n"
      ],
      "execution_count": null,
      "outputs": [
        {
          "output_type": "stream",
          "name": "stdout",
          "text": [
            "[[      nan]\n",
            " [      nan]\n",
            " [      nan]\n",
            " [      nan]\n",
            " [      nan]\n",
            " [0.0035065]\n",
            " [      nan]]\n"
          ]
        }
      ]
    },
    {
      "cell_type": "code",
      "metadata": {
        "id": "m7vPl-QOLNBG"
      },
      "source": [
        ""
      ],
      "execution_count": null,
      "outputs": []
    }
  ]
}