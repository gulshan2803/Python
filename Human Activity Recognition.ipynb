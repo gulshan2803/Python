{
 "cells": [
  {
   "cell_type": "markdown",
   "id": "0067f1c0",
   "metadata": {},
   "source": [
    "# Import Library"
   ]
  },
  {
   "cell_type": "code",
   "execution_count": 2,
   "id": "b3045146",
   "metadata": {},
   "outputs": [],
   "source": [
    "import numpy as np\n",
    "import pandas as pd\n",
    "\n",
    "import seaborn as sns\n",
    "import matplotlib.pyplot as plt \n",
    "%matplotlib inline\n",
    "\n",
    "# import SVC classifier\n",
    "from sklearn.svm import SVC\n",
    "\n",
    "# import metrics to compute accuracy (Evaluate)\n",
    "from sklearn.metrics import accuracy_score, confusion_matrix,classification_report\n",
    "from sklearn.model_selection import cross_val_score, GridSearchCV"
   ]
  },
  {
   "cell_type": "markdown",
   "id": "b672cc08",
   "metadata": {},
   "source": [
    "# Loading the train datasets"
   ]
  },
  {
   "cell_type": "code",
   "execution_count": 3,
   "id": "935dfe84",
   "metadata": {},
   "outputs": [],
   "source": [
    "df_train = pd.read_csv('train_br.csv')"
   ]
  },
  {
   "cell_type": "markdown",
   "id": "30776189",
   "metadata": {},
   "source": [
    "# EDA"
   ]
  },
  {
   "cell_type": "code",
   "execution_count": 4,
   "id": "0b5cbfe9",
   "metadata": {},
   "outputs": [
    {
     "data": {
      "text/html": [
       "<div>\n",
       "<style scoped>\n",
       "    .dataframe tbody tr th:only-of-type {\n",
       "        vertical-align: middle;\n",
       "    }\n",
       "\n",
       "    .dataframe tbody tr th {\n",
       "        vertical-align: top;\n",
       "    }\n",
       "\n",
       "    .dataframe thead th {\n",
       "        text-align: right;\n",
       "    }\n",
       "</style>\n",
       "<table border=\"1\" class=\"dataframe\">\n",
       "  <thead>\n",
       "    <tr style=\"text-align: right;\">\n",
       "      <th></th>\n",
       "      <th>tBodyAcc-mean()-X</th>\n",
       "      <th>tBodyAcc-mean()-Y</th>\n",
       "      <th>tBodyAcc-mean()-Z</th>\n",
       "      <th>tBodyAcc-std()-X</th>\n",
       "      <th>tBodyAcc-std()-Y</th>\n",
       "      <th>tBodyAcc-std()-Z</th>\n",
       "      <th>tBodyAcc-mad()-X</th>\n",
       "      <th>tBodyAcc-mad()-Y</th>\n",
       "      <th>tBodyAcc-mad()-Z</th>\n",
       "      <th>tBodyAcc-max()-X</th>\n",
       "      <th>...</th>\n",
       "      <th>fBodyBodyGyroJerkMag-kurtosis()</th>\n",
       "      <th>angle(tBodyAccMean,gravity)</th>\n",
       "      <th>angle(tBodyAccJerkMean),gravityMean)</th>\n",
       "      <th>angle(tBodyGyroMean,gravityMean)</th>\n",
       "      <th>angle(tBodyGyroJerkMean,gravityMean)</th>\n",
       "      <th>angle(X,gravityMean)</th>\n",
       "      <th>angle(Y,gravityMean)</th>\n",
       "      <th>angle(Z,gravityMean)</th>\n",
       "      <th>subject</th>\n",
       "      <th>Activity</th>\n",
       "    </tr>\n",
       "  </thead>\n",
       "  <tbody>\n",
       "    <tr>\n",
       "      <th>0</th>\n",
       "      <td>0.288585</td>\n",
       "      <td>-0.020294</td>\n",
       "      <td>-0.132905</td>\n",
       "      <td>-0.995279</td>\n",
       "      <td>-0.983111</td>\n",
       "      <td>-0.913526</td>\n",
       "      <td>-0.995112</td>\n",
       "      <td>-0.983185</td>\n",
       "      <td>-0.923527</td>\n",
       "      <td>-0.934724</td>\n",
       "      <td>...</td>\n",
       "      <td>-0.710304</td>\n",
       "      <td>-0.112754</td>\n",
       "      <td>0.030400</td>\n",
       "      <td>-0.464761</td>\n",
       "      <td>-0.018446</td>\n",
       "      <td>-0.841247</td>\n",
       "      <td>0.179941</td>\n",
       "      <td>-0.058627</td>\n",
       "      <td>1</td>\n",
       "      <td>STANDING</td>\n",
       "    </tr>\n",
       "    <tr>\n",
       "      <th>1</th>\n",
       "      <td>0.278419</td>\n",
       "      <td>-0.016411</td>\n",
       "      <td>-0.123520</td>\n",
       "      <td>-0.998245</td>\n",
       "      <td>-0.975300</td>\n",
       "      <td>-0.960322</td>\n",
       "      <td>-0.998807</td>\n",
       "      <td>-0.974914</td>\n",
       "      <td>-0.957686</td>\n",
       "      <td>-0.943068</td>\n",
       "      <td>...</td>\n",
       "      <td>-0.861499</td>\n",
       "      <td>0.053477</td>\n",
       "      <td>-0.007435</td>\n",
       "      <td>-0.732626</td>\n",
       "      <td>0.703511</td>\n",
       "      <td>-0.844788</td>\n",
       "      <td>0.180289</td>\n",
       "      <td>-0.054317</td>\n",
       "      <td>1</td>\n",
       "      <td>STANDING</td>\n",
       "    </tr>\n",
       "    <tr>\n",
       "      <th>2</th>\n",
       "      <td>0.279653</td>\n",
       "      <td>-0.019467</td>\n",
       "      <td>-0.113462</td>\n",
       "      <td>-0.995380</td>\n",
       "      <td>-0.967187</td>\n",
       "      <td>-0.978944</td>\n",
       "      <td>-0.996520</td>\n",
       "      <td>-0.963668</td>\n",
       "      <td>-0.977469</td>\n",
       "      <td>-0.938692</td>\n",
       "      <td>...</td>\n",
       "      <td>-0.760104</td>\n",
       "      <td>-0.118559</td>\n",
       "      <td>0.177899</td>\n",
       "      <td>0.100699</td>\n",
       "      <td>0.808529</td>\n",
       "      <td>-0.848933</td>\n",
       "      <td>0.180637</td>\n",
       "      <td>-0.049118</td>\n",
       "      <td>1</td>\n",
       "      <td>STANDING</td>\n",
       "    </tr>\n",
       "    <tr>\n",
       "      <th>3</th>\n",
       "      <td>0.279174</td>\n",
       "      <td>-0.026201</td>\n",
       "      <td>-0.123283</td>\n",
       "      <td>-0.996091</td>\n",
       "      <td>-0.983403</td>\n",
       "      <td>-0.990675</td>\n",
       "      <td>-0.997099</td>\n",
       "      <td>-0.982750</td>\n",
       "      <td>-0.989302</td>\n",
       "      <td>-0.938692</td>\n",
       "      <td>...</td>\n",
       "      <td>-0.482845</td>\n",
       "      <td>-0.036788</td>\n",
       "      <td>-0.012892</td>\n",
       "      <td>0.640011</td>\n",
       "      <td>-0.485366</td>\n",
       "      <td>-0.848649</td>\n",
       "      <td>0.181935</td>\n",
       "      <td>-0.047663</td>\n",
       "      <td>1</td>\n",
       "      <td>STANDING</td>\n",
       "    </tr>\n",
       "    <tr>\n",
       "      <th>4</th>\n",
       "      <td>0.276629</td>\n",
       "      <td>-0.016570</td>\n",
       "      <td>-0.115362</td>\n",
       "      <td>-0.998139</td>\n",
       "      <td>-0.980817</td>\n",
       "      <td>-0.990482</td>\n",
       "      <td>-0.998321</td>\n",
       "      <td>-0.979672</td>\n",
       "      <td>-0.990441</td>\n",
       "      <td>-0.942469</td>\n",
       "      <td>...</td>\n",
       "      <td>-0.699205</td>\n",
       "      <td>0.123320</td>\n",
       "      <td>0.122542</td>\n",
       "      <td>0.693578</td>\n",
       "      <td>-0.615971</td>\n",
       "      <td>-0.847865</td>\n",
       "      <td>0.185151</td>\n",
       "      <td>-0.043892</td>\n",
       "      <td>1</td>\n",
       "      <td>STANDING</td>\n",
       "    </tr>\n",
       "  </tbody>\n",
       "</table>\n",
       "<p>5 rows × 563 columns</p>\n",
       "</div>"
      ],
      "text/plain": [
       "   tBodyAcc-mean()-X  tBodyAcc-mean()-Y  tBodyAcc-mean()-Z  tBodyAcc-std()-X  \\\n",
       "0           0.288585          -0.020294          -0.132905         -0.995279   \n",
       "1           0.278419          -0.016411          -0.123520         -0.998245   \n",
       "2           0.279653          -0.019467          -0.113462         -0.995380   \n",
       "3           0.279174          -0.026201          -0.123283         -0.996091   \n",
       "4           0.276629          -0.016570          -0.115362         -0.998139   \n",
       "\n",
       "   tBodyAcc-std()-Y  tBodyAcc-std()-Z  tBodyAcc-mad()-X  tBodyAcc-mad()-Y  \\\n",
       "0         -0.983111         -0.913526         -0.995112         -0.983185   \n",
       "1         -0.975300         -0.960322         -0.998807         -0.974914   \n",
       "2         -0.967187         -0.978944         -0.996520         -0.963668   \n",
       "3         -0.983403         -0.990675         -0.997099         -0.982750   \n",
       "4         -0.980817         -0.990482         -0.998321         -0.979672   \n",
       "\n",
       "   tBodyAcc-mad()-Z  tBodyAcc-max()-X  ...  fBodyBodyGyroJerkMag-kurtosis()  \\\n",
       "0         -0.923527         -0.934724  ...                        -0.710304   \n",
       "1         -0.957686         -0.943068  ...                        -0.861499   \n",
       "2         -0.977469         -0.938692  ...                        -0.760104   \n",
       "3         -0.989302         -0.938692  ...                        -0.482845   \n",
       "4         -0.990441         -0.942469  ...                        -0.699205   \n",
       "\n",
       "   angle(tBodyAccMean,gravity)  angle(tBodyAccJerkMean),gravityMean)  \\\n",
       "0                    -0.112754                              0.030400   \n",
       "1                     0.053477                             -0.007435   \n",
       "2                    -0.118559                              0.177899   \n",
       "3                    -0.036788                             -0.012892   \n",
       "4                     0.123320                              0.122542   \n",
       "\n",
       "   angle(tBodyGyroMean,gravityMean)  angle(tBodyGyroJerkMean,gravityMean)  \\\n",
       "0                         -0.464761                             -0.018446   \n",
       "1                         -0.732626                              0.703511   \n",
       "2                          0.100699                              0.808529   \n",
       "3                          0.640011                             -0.485366   \n",
       "4                          0.693578                             -0.615971   \n",
       "\n",
       "   angle(X,gravityMean)  angle(Y,gravityMean)  angle(Z,gravityMean)  subject  \\\n",
       "0             -0.841247              0.179941             -0.058627        1   \n",
       "1             -0.844788              0.180289             -0.054317        1   \n",
       "2             -0.848933              0.180637             -0.049118        1   \n",
       "3             -0.848649              0.181935             -0.047663        1   \n",
       "4             -0.847865              0.185151             -0.043892        1   \n",
       "\n",
       "   Activity  \n",
       "0  STANDING  \n",
       "1  STANDING  \n",
       "2  STANDING  \n",
       "3  STANDING  \n",
       "4  STANDING  \n",
       "\n",
       "[5 rows x 563 columns]"
      ]
     },
     "execution_count": 4,
     "metadata": {},
     "output_type": "execute_result"
    }
   ],
   "source": [
    "df_train.head()"
   ]
  },
  {
   "cell_type": "code",
   "execution_count": 5,
   "id": "69fc9160",
   "metadata": {},
   "outputs": [
    {
     "data": {
      "text/html": [
       "<div>\n",
       "<style scoped>\n",
       "    .dataframe tbody tr th:only-of-type {\n",
       "        vertical-align: middle;\n",
       "    }\n",
       "\n",
       "    .dataframe tbody tr th {\n",
       "        vertical-align: top;\n",
       "    }\n",
       "\n",
       "    .dataframe thead th {\n",
       "        text-align: right;\n",
       "    }\n",
       "</style>\n",
       "<table border=\"1\" class=\"dataframe\">\n",
       "  <thead>\n",
       "    <tr style=\"text-align: right;\">\n",
       "      <th></th>\n",
       "      <th>tBodyAcc-mean()-X</th>\n",
       "      <th>tBodyAcc-mean()-Y</th>\n",
       "      <th>tBodyAcc-mean()-Z</th>\n",
       "      <th>tBodyAcc-std()-X</th>\n",
       "      <th>tBodyAcc-std()-Y</th>\n",
       "      <th>tBodyAcc-std()-Z</th>\n",
       "      <th>tBodyAcc-mad()-X</th>\n",
       "      <th>tBodyAcc-mad()-Y</th>\n",
       "      <th>tBodyAcc-mad()-Z</th>\n",
       "      <th>tBodyAcc-max()-X</th>\n",
       "      <th>...</th>\n",
       "      <th>fBodyBodyGyroJerkMag-kurtosis()</th>\n",
       "      <th>angle(tBodyAccMean,gravity)</th>\n",
       "      <th>angle(tBodyAccJerkMean),gravityMean)</th>\n",
       "      <th>angle(tBodyGyroMean,gravityMean)</th>\n",
       "      <th>angle(tBodyGyroJerkMean,gravityMean)</th>\n",
       "      <th>angle(X,gravityMean)</th>\n",
       "      <th>angle(Y,gravityMean)</th>\n",
       "      <th>angle(Z,gravityMean)</th>\n",
       "      <th>subject</th>\n",
       "      <th>Activity</th>\n",
       "    </tr>\n",
       "  </thead>\n",
       "  <tbody>\n",
       "    <tr>\n",
       "      <th>7347</th>\n",
       "      <td>0.299665</td>\n",
       "      <td>-0.057193</td>\n",
       "      <td>-0.181233</td>\n",
       "      <td>-0.195387</td>\n",
       "      <td>0.039905</td>\n",
       "      <td>0.077078</td>\n",
       "      <td>-0.282301</td>\n",
       "      <td>0.043616</td>\n",
       "      <td>0.060410</td>\n",
       "      <td>0.210795</td>\n",
       "      <td>...</td>\n",
       "      <td>-0.880324</td>\n",
       "      <td>-0.190437</td>\n",
       "      <td>0.829718</td>\n",
       "      <td>0.206972</td>\n",
       "      <td>-0.425619</td>\n",
       "      <td>-0.791883</td>\n",
       "      <td>0.238604</td>\n",
       "      <td>0.049819</td>\n",
       "      <td>30</td>\n",
       "      <td>WALKING_UPSTAIRS</td>\n",
       "    </tr>\n",
       "    <tr>\n",
       "      <th>7348</th>\n",
       "      <td>0.273853</td>\n",
       "      <td>-0.007749</td>\n",
       "      <td>-0.147468</td>\n",
       "      <td>-0.235309</td>\n",
       "      <td>0.004816</td>\n",
       "      <td>0.059280</td>\n",
       "      <td>-0.322552</td>\n",
       "      <td>-0.029456</td>\n",
       "      <td>0.080585</td>\n",
       "      <td>0.117440</td>\n",
       "      <td>...</td>\n",
       "      <td>-0.680744</td>\n",
       "      <td>0.064907</td>\n",
       "      <td>0.875679</td>\n",
       "      <td>-0.879033</td>\n",
       "      <td>0.400219</td>\n",
       "      <td>-0.771840</td>\n",
       "      <td>0.252676</td>\n",
       "      <td>0.050053</td>\n",
       "      <td>30</td>\n",
       "      <td>WALKING_UPSTAIRS</td>\n",
       "    </tr>\n",
       "    <tr>\n",
       "      <th>7349</th>\n",
       "      <td>0.273387</td>\n",
       "      <td>-0.017011</td>\n",
       "      <td>-0.045022</td>\n",
       "      <td>-0.218218</td>\n",
       "      <td>-0.103822</td>\n",
       "      <td>0.274533</td>\n",
       "      <td>-0.304515</td>\n",
       "      <td>-0.098913</td>\n",
       "      <td>0.332584</td>\n",
       "      <td>0.043999</td>\n",
       "      <td>...</td>\n",
       "      <td>-0.304029</td>\n",
       "      <td>0.052806</td>\n",
       "      <td>-0.266724</td>\n",
       "      <td>0.864404</td>\n",
       "      <td>0.701169</td>\n",
       "      <td>-0.779133</td>\n",
       "      <td>0.249145</td>\n",
       "      <td>0.040811</td>\n",
       "      <td>30</td>\n",
       "      <td>WALKING_UPSTAIRS</td>\n",
       "    </tr>\n",
       "    <tr>\n",
       "      <th>7350</th>\n",
       "      <td>0.289654</td>\n",
       "      <td>-0.018843</td>\n",
       "      <td>-0.158281</td>\n",
       "      <td>-0.219139</td>\n",
       "      <td>-0.111412</td>\n",
       "      <td>0.268893</td>\n",
       "      <td>-0.310487</td>\n",
       "      <td>-0.068200</td>\n",
       "      <td>0.319473</td>\n",
       "      <td>0.101702</td>\n",
       "      <td>...</td>\n",
       "      <td>-0.344314</td>\n",
       "      <td>-0.101360</td>\n",
       "      <td>0.700740</td>\n",
       "      <td>0.936674</td>\n",
       "      <td>-0.589479</td>\n",
       "      <td>-0.785181</td>\n",
       "      <td>0.246432</td>\n",
       "      <td>0.025339</td>\n",
       "      <td>30</td>\n",
       "      <td>WALKING_UPSTAIRS</td>\n",
       "    </tr>\n",
       "    <tr>\n",
       "      <th>7351</th>\n",
       "      <td>0.351503</td>\n",
       "      <td>-0.012423</td>\n",
       "      <td>-0.203867</td>\n",
       "      <td>-0.269270</td>\n",
       "      <td>-0.087212</td>\n",
       "      <td>0.177404</td>\n",
       "      <td>-0.377404</td>\n",
       "      <td>-0.038678</td>\n",
       "      <td>0.229430</td>\n",
       "      <td>0.269013</td>\n",
       "      <td>...</td>\n",
       "      <td>-0.740738</td>\n",
       "      <td>-0.280088</td>\n",
       "      <td>-0.007739</td>\n",
       "      <td>-0.056088</td>\n",
       "      <td>-0.616956</td>\n",
       "      <td>-0.783267</td>\n",
       "      <td>0.246809</td>\n",
       "      <td>0.036695</td>\n",
       "      <td>30</td>\n",
       "      <td>WALKING_UPSTAIRS</td>\n",
       "    </tr>\n",
       "  </tbody>\n",
       "</table>\n",
       "<p>5 rows × 563 columns</p>\n",
       "</div>"
      ],
      "text/plain": [
       "      tBodyAcc-mean()-X  tBodyAcc-mean()-Y  tBodyAcc-mean()-Z  \\\n",
       "7347           0.299665          -0.057193          -0.181233   \n",
       "7348           0.273853          -0.007749          -0.147468   \n",
       "7349           0.273387          -0.017011          -0.045022   \n",
       "7350           0.289654          -0.018843          -0.158281   \n",
       "7351           0.351503          -0.012423          -0.203867   \n",
       "\n",
       "      tBodyAcc-std()-X  tBodyAcc-std()-Y  tBodyAcc-std()-Z  tBodyAcc-mad()-X  \\\n",
       "7347         -0.195387          0.039905          0.077078         -0.282301   \n",
       "7348         -0.235309          0.004816          0.059280         -0.322552   \n",
       "7349         -0.218218         -0.103822          0.274533         -0.304515   \n",
       "7350         -0.219139         -0.111412          0.268893         -0.310487   \n",
       "7351         -0.269270         -0.087212          0.177404         -0.377404   \n",
       "\n",
       "      tBodyAcc-mad()-Y  tBodyAcc-mad()-Z  tBodyAcc-max()-X  ...  \\\n",
       "7347          0.043616          0.060410          0.210795  ...   \n",
       "7348         -0.029456          0.080585          0.117440  ...   \n",
       "7349         -0.098913          0.332584          0.043999  ...   \n",
       "7350         -0.068200          0.319473          0.101702  ...   \n",
       "7351         -0.038678          0.229430          0.269013  ...   \n",
       "\n",
       "      fBodyBodyGyroJerkMag-kurtosis()  angle(tBodyAccMean,gravity)  \\\n",
       "7347                        -0.880324                    -0.190437   \n",
       "7348                        -0.680744                     0.064907   \n",
       "7349                        -0.304029                     0.052806   \n",
       "7350                        -0.344314                    -0.101360   \n",
       "7351                        -0.740738                    -0.280088   \n",
       "\n",
       "      angle(tBodyAccJerkMean),gravityMean)  angle(tBodyGyroMean,gravityMean)  \\\n",
       "7347                              0.829718                          0.206972   \n",
       "7348                              0.875679                         -0.879033   \n",
       "7349                             -0.266724                          0.864404   \n",
       "7350                              0.700740                          0.936674   \n",
       "7351                             -0.007739                         -0.056088   \n",
       "\n",
       "      angle(tBodyGyroJerkMean,gravityMean)  angle(X,gravityMean)  \\\n",
       "7347                             -0.425619             -0.791883   \n",
       "7348                              0.400219             -0.771840   \n",
       "7349                              0.701169             -0.779133   \n",
       "7350                             -0.589479             -0.785181   \n",
       "7351                             -0.616956             -0.783267   \n",
       "\n",
       "      angle(Y,gravityMean)  angle(Z,gravityMean)  subject          Activity  \n",
       "7347              0.238604              0.049819       30  WALKING_UPSTAIRS  \n",
       "7348              0.252676              0.050053       30  WALKING_UPSTAIRS  \n",
       "7349              0.249145              0.040811       30  WALKING_UPSTAIRS  \n",
       "7350              0.246432              0.025339       30  WALKING_UPSTAIRS  \n",
       "7351              0.246809              0.036695       30  WALKING_UPSTAIRS  \n",
       "\n",
       "[5 rows x 563 columns]"
      ]
     },
     "execution_count": 5,
     "metadata": {},
     "output_type": "execute_result"
    }
   ],
   "source": [
    "df_train.tail()"
   ]
  },
  {
   "cell_type": "code",
   "execution_count": 6,
   "id": "0d985424",
   "metadata": {},
   "outputs": [
    {
     "data": {
      "text/plain": [
       "(7352, 563)"
      ]
     },
     "execution_count": 6,
     "metadata": {},
     "output_type": "execute_result"
    }
   ],
   "source": [
    "df_train.shape"
   ]
  },
  {
   "cell_type": "markdown",
   "id": "c30042c6",
   "metadata": {},
   "source": [
    "The dataset has 563 columns/features (including the target/class) and 7352 rows or data points. The target is Activity"
   ]
  },
  {
   "cell_type": "markdown",
   "id": "18ad482f",
   "metadata": {},
   "source": [
    "# Checking for missing values in the dataset "
   ]
  },
  {
   "cell_type": "code",
   "execution_count": 7,
   "id": "5fd1cce5",
   "metadata": {},
   "outputs": [
    {
     "data": {
      "text/plain": [
       "False"
      ]
     },
     "execution_count": 7,
     "metadata": {},
     "output_type": "execute_result"
    }
   ],
   "source": [
    "df_train.isnull().values.any()"
   ]
  },
  {
   "cell_type": "markdown",
   "id": "65ab23fb",
   "metadata": {},
   "source": [
    "# Class Distribution"
   ]
  },
  {
   "cell_type": "code",
   "execution_count": 8,
   "id": "62b20862",
   "metadata": {},
   "outputs": [
    {
     "data": {
      "text/plain": [
       "array(['STANDING', 'SITTING', 'LAYING', 'WALKING', 'WALKING_DOWNSTAIRS',\n",
       "       'WALKING_UPSTAIRS'], dtype=object)"
      ]
     },
     "execution_count": 8,
     "metadata": {},
     "output_type": "execute_result"
    }
   ],
   "source": [
    "df_train['Activity'].unique()"
   ]
  },
  {
   "cell_type": "code",
   "execution_count": 9,
   "id": "87781132",
   "metadata": {},
   "outputs": [
    {
     "data": {
      "text/html": [
       "<div>\n",
       "<style scoped>\n",
       "    .dataframe tbody tr th:only-of-type {\n",
       "        vertical-align: middle;\n",
       "    }\n",
       "\n",
       "    .dataframe tbody tr th {\n",
       "        vertical-align: top;\n",
       "    }\n",
       "\n",
       "    .dataframe thead th {\n",
       "        text-align: right;\n",
       "    }\n",
       "</style>\n",
       "<table border=\"1\" class=\"dataframe\">\n",
       "  <thead>\n",
       "    <tr style=\"text-align: right;\">\n",
       "      <th>col_0</th>\n",
       "      <th>count</th>\n",
       "    </tr>\n",
       "    <tr>\n",
       "      <th>Activity</th>\n",
       "      <th></th>\n",
       "    </tr>\n",
       "  </thead>\n",
       "  <tbody>\n",
       "    <tr>\n",
       "      <th>LAYING</th>\n",
       "      <td>1407</td>\n",
       "    </tr>\n",
       "    <tr>\n",
       "      <th>SITTING</th>\n",
       "      <td>1286</td>\n",
       "    </tr>\n",
       "    <tr>\n",
       "      <th>STANDING</th>\n",
       "      <td>1374</td>\n",
       "    </tr>\n",
       "    <tr>\n",
       "      <th>WALKING</th>\n",
       "      <td>1226</td>\n",
       "    </tr>\n",
       "    <tr>\n",
       "      <th>WALKING_DOWNSTAIRS</th>\n",
       "      <td>986</td>\n",
       "    </tr>\n",
       "    <tr>\n",
       "      <th>WALKING_UPSTAIRS</th>\n",
       "      <td>1073</td>\n",
       "    </tr>\n",
       "  </tbody>\n",
       "</table>\n",
       "</div>"
      ],
      "text/plain": [
       "col_0               count\n",
       "Activity                 \n",
       "LAYING               1407\n",
       "SITTING              1286\n",
       "STANDING             1374\n",
       "WALKING              1226\n",
       "WALKING_DOWNSTAIRS    986\n",
       "WALKING_UPSTAIRS     1073"
      ]
     },
     "execution_count": 9,
     "metadata": {},
     "output_type": "execute_result"
    }
   ],
   "source": [
    "pd.crosstab(index = df_train['Activity'],columns='count')"
   ]
  },
  {
   "cell_type": "markdown",
   "id": "a122e12c",
   "metadata": {},
   "source": [
    "# Visualize the Class Distribution"
   ]
  },
  {
   "cell_type": "code",
   "execution_count": 10,
   "id": "dc3f6749",
   "metadata": {},
   "outputs": [
    {
     "data": {
      "image/png": "[encoded data removed]",
      "text/plain": [
       "<Figure size 720x360 with 1 Axes>"
      ]
     },
     "metadata": {
      "needs_background": "light"
     },
     "output_type": "display_data"
    }
   ],
   "source": [
    "plt.figure(figsize=(10,5))\n",
    "ax = sns.countplot(x = 'Activity', data = df_train)\n",
    "plt.xticks(x = df_train['Activity'], rotation='vertical')\n",
    "plt.show()"
   ]
  },
  {
   "cell_type": "markdown",
   "id": "fb85d2b6",
   "metadata": {},
   "source": [
    "1. Class Distribution is great, \n",
    "2. We can check for the feature 'subject' , we can drop or ignore the feature as it is the identifier of the subject who performed out the experiment. "
   ]
  },
  {
   "cell_type": "code",
   "execution_count": 11,
   "id": "605ce82d",
   "metadata": {},
   "outputs": [
    {
     "data": {
      "text/plain": [
       "array([ 1,  3,  5,  6,  7,  8, 11, 14, 15, 16, 17, 19, 21, 22, 23, 25, 26,\n",
       "       27, 28, 29, 30], dtype=int64)"
      ]
     },
     "execution_count": 11,
     "metadata": {},
     "output_type": "execute_result"
    }
   ],
   "source": [
    "df_train['subject'].unique()"
   ]
  },
  {
   "cell_type": "code",
   "execution_count": 12,
   "id": "a221612a",
   "metadata": {},
   "outputs": [
    {
     "data": {
      "text/plain": [
       "((7352, 561), (7352,))"
      ]
     },
     "execution_count": 12,
     "metadata": {},
     "output_type": "execute_result"
    }
   ],
   "source": [
    "X = pd.DataFrame(df_train.drop(['Activity','subject'],axis=1))\n",
    "Y = df_train.Activity.values.astype(object)\n",
    "\n",
    "X.shape, Y.shape"
   ]
  },
  {
   "cell_type": "code",
   "execution_count": 13,
   "id": "2cc5668c",
   "metadata": {},
   "outputs": [
    {
     "data": {
      "text/html": [
       "<div>\n",
       "<style scoped>\n",
       "    .dataframe tbody tr th:only-of-type {\n",
       "        vertical-align: middle;\n",
       "    }\n",
       "\n",
       "    .dataframe tbody tr th {\n",
       "        vertical-align: top;\n",
       "    }\n",
       "\n",
       "    .dataframe thead th {\n",
       "        text-align: right;\n",
       "    }\n",
       "</style>\n",
       "<table border=\"1\" class=\"dataframe\">\n",
       "  <thead>\n",
       "    <tr style=\"text-align: right;\">\n",
       "      <th></th>\n",
       "      <th>tBodyAcc-mean()-X</th>\n",
       "      <th>tBodyAcc-mean()-Y</th>\n",
       "      <th>tBodyAcc-mean()-Z</th>\n",
       "      <th>tBodyAcc-std()-X</th>\n",
       "      <th>tBodyAcc-std()-Y</th>\n",
       "      <th>tBodyAcc-std()-Z</th>\n",
       "      <th>tBodyAcc-mad()-X</th>\n",
       "      <th>tBodyAcc-mad()-Y</th>\n",
       "      <th>tBodyAcc-mad()-Z</th>\n",
       "      <th>tBodyAcc-max()-X</th>\n",
       "      <th>...</th>\n",
       "      <th>fBodyBodyGyroJerkMag-meanFreq()</th>\n",
       "      <th>fBodyBodyGyroJerkMag-skewness()</th>\n",
       "      <th>fBodyBodyGyroJerkMag-kurtosis()</th>\n",
       "      <th>angle(tBodyAccMean,gravity)</th>\n",
       "      <th>angle(tBodyAccJerkMean),gravityMean)</th>\n",
       "      <th>angle(tBodyGyroMean,gravityMean)</th>\n",
       "      <th>angle(tBodyGyroJerkMean,gravityMean)</th>\n",
       "      <th>angle(X,gravityMean)</th>\n",
       "      <th>angle(Y,gravityMean)</th>\n",
       "      <th>angle(Z,gravityMean)</th>\n",
       "    </tr>\n",
       "  </thead>\n",
       "  <tbody>\n",
       "    <tr>\n",
       "      <th>0</th>\n",
       "      <td>0.288585</td>\n",
       "      <td>-0.020294</td>\n",
       "      <td>-0.132905</td>\n",
       "      <td>-0.995279</td>\n",
       "      <td>-0.983111</td>\n",
       "      <td>-0.913526</td>\n",
       "      <td>-0.995112</td>\n",
       "      <td>-0.983185</td>\n",
       "      <td>-0.923527</td>\n",
       "      <td>-0.934724</td>\n",
       "      <td>...</td>\n",
       "      <td>-0.074323</td>\n",
       "      <td>-0.298676</td>\n",
       "      <td>-0.710304</td>\n",
       "      <td>-0.112754</td>\n",
       "      <td>0.030400</td>\n",
       "      <td>-0.464761</td>\n",
       "      <td>-0.018446</td>\n",
       "      <td>-0.841247</td>\n",
       "      <td>0.179941</td>\n",
       "      <td>-0.058627</td>\n",
       "    </tr>\n",
       "    <tr>\n",
       "      <th>1</th>\n",
       "      <td>0.278419</td>\n",
       "      <td>-0.016411</td>\n",
       "      <td>-0.123520</td>\n",
       "      <td>-0.998245</td>\n",
       "      <td>-0.975300</td>\n",
       "      <td>-0.960322</td>\n",
       "      <td>-0.998807</td>\n",
       "      <td>-0.974914</td>\n",
       "      <td>-0.957686</td>\n",
       "      <td>-0.943068</td>\n",
       "      <td>...</td>\n",
       "      <td>0.158075</td>\n",
       "      <td>-0.595051</td>\n",
       "      <td>-0.861499</td>\n",
       "      <td>0.053477</td>\n",
       "      <td>-0.007435</td>\n",
       "      <td>-0.732626</td>\n",
       "      <td>0.703511</td>\n",
       "      <td>-0.844788</td>\n",
       "      <td>0.180289</td>\n",
       "      <td>-0.054317</td>\n",
       "    </tr>\n",
       "    <tr>\n",
       "      <th>2</th>\n",
       "      <td>0.279653</td>\n",
       "      <td>-0.019467</td>\n",
       "      <td>-0.113462</td>\n",
       "      <td>-0.995380</td>\n",
       "      <td>-0.967187</td>\n",
       "      <td>-0.978944</td>\n",
       "      <td>-0.996520</td>\n",
       "      <td>-0.963668</td>\n",
       "      <td>-0.977469</td>\n",
       "      <td>-0.938692</td>\n",
       "      <td>...</td>\n",
       "      <td>0.414503</td>\n",
       "      <td>-0.390748</td>\n",
       "      <td>-0.760104</td>\n",
       "      <td>-0.118559</td>\n",
       "      <td>0.177899</td>\n",
       "      <td>0.100699</td>\n",
       "      <td>0.808529</td>\n",
       "      <td>-0.848933</td>\n",
       "      <td>0.180637</td>\n",
       "      <td>-0.049118</td>\n",
       "    </tr>\n",
       "    <tr>\n",
       "      <th>3</th>\n",
       "      <td>0.279174</td>\n",
       "      <td>-0.026201</td>\n",
       "      <td>-0.123283</td>\n",
       "      <td>-0.996091</td>\n",
       "      <td>-0.983403</td>\n",
       "      <td>-0.990675</td>\n",
       "      <td>-0.997099</td>\n",
       "      <td>-0.982750</td>\n",
       "      <td>-0.989302</td>\n",
       "      <td>-0.938692</td>\n",
       "      <td>...</td>\n",
       "      <td>0.404573</td>\n",
       "      <td>-0.117290</td>\n",
       "      <td>-0.482845</td>\n",
       "      <td>-0.036788</td>\n",
       "      <td>-0.012892</td>\n",
       "      <td>0.640011</td>\n",
       "      <td>-0.485366</td>\n",
       "      <td>-0.848649</td>\n",
       "      <td>0.181935</td>\n",
       "      <td>-0.047663</td>\n",
       "    </tr>\n",
       "    <tr>\n",
       "      <th>4</th>\n",
       "      <td>0.276629</td>\n",
       "      <td>-0.016570</td>\n",
       "      <td>-0.115362</td>\n",
       "      <td>-0.998139</td>\n",
       "      <td>-0.980817</td>\n",
       "      <td>-0.990482</td>\n",
       "      <td>-0.998321</td>\n",
       "      <td>-0.979672</td>\n",
       "      <td>-0.990441</td>\n",
       "      <td>-0.942469</td>\n",
       "      <td>...</td>\n",
       "      <td>0.087753</td>\n",
       "      <td>-0.351471</td>\n",
       "      <td>-0.699205</td>\n",
       "      <td>0.123320</td>\n",
       "      <td>0.122542</td>\n",
       "      <td>0.693578</td>\n",
       "      <td>-0.615971</td>\n",
       "      <td>-0.847865</td>\n",
       "      <td>0.185151</td>\n",
       "      <td>-0.043892</td>\n",
       "    </tr>\n",
       "  </tbody>\n",
       "</table>\n",
       "<p>5 rows × 561 columns</p>\n",
       "</div>"
      ],
      "text/plain": [
       "   tBodyAcc-mean()-X  tBodyAcc-mean()-Y  tBodyAcc-mean()-Z  tBodyAcc-std()-X  \\\n",
       "0           0.288585          -0.020294          -0.132905         -0.995279   \n",
       "1           0.278419          -0.016411          -0.123520         -0.998245   \n",
       "2           0.279653          -0.019467          -0.113462         -0.995380   \n",
       "3           0.279174          -0.026201          -0.123283         -0.996091   \n",
       "4           0.276629          -0.016570          -0.115362         -0.998139   \n",
       "\n",
       "   tBodyAcc-std()-Y  tBodyAcc-std()-Z  tBodyAcc-mad()-X  tBodyAcc-mad()-Y  \\\n",
       "0         -0.983111         -0.913526         -0.995112         -0.983185   \n",
       "1         -0.975300         -0.960322         -0.998807         -0.974914   \n",
       "2         -0.967187         -0.978944         -0.996520         -0.963668   \n",
       "3         -0.983403         -0.990675         -0.997099         -0.982750   \n",
       "4         -0.980817         -0.990482         -0.998321         -0.979672   \n",
       "\n",
       "   tBodyAcc-mad()-Z  tBodyAcc-max()-X  ...  fBodyBodyGyroJerkMag-meanFreq()  \\\n",
       "0         -0.923527         -0.934724  ...                        -0.074323   \n",
       "1         -0.957686         -0.943068  ...                         0.158075   \n",
       "2         -0.977469         -0.938692  ...                         0.414503   \n",
       "3         -0.989302         -0.938692  ...                         0.404573   \n",
       "4         -0.990441         -0.942469  ...                         0.087753   \n",
       "\n",
       "   fBodyBodyGyroJerkMag-skewness()  fBodyBodyGyroJerkMag-kurtosis()  \\\n",
       "0                        -0.298676                        -0.710304   \n",
       "1                        -0.595051                        -0.861499   \n",
       "2                        -0.390748                        -0.760104   \n",
       "3                        -0.117290                        -0.482845   \n",
       "4                        -0.351471                        -0.699205   \n",
       "\n",
       "   angle(tBodyAccMean,gravity)  angle(tBodyAccJerkMean),gravityMean)  \\\n",
       "0                    -0.112754                              0.030400   \n",
       "1                     0.053477                             -0.007435   \n",
       "2                    -0.118559                              0.177899   \n",
       "3                    -0.036788                             -0.012892   \n",
       "4                     0.123320                              0.122542   \n",
       "\n",
       "   angle(tBodyGyroMean,gravityMean)  angle(tBodyGyroJerkMean,gravityMean)  \\\n",
       "0                         -0.464761                             -0.018446   \n",
       "1                         -0.732626                              0.703511   \n",
       "2                          0.100699                              0.808529   \n",
       "3                          0.640011                             -0.485366   \n",
       "4                          0.693578                             -0.615971   \n",
       "\n",
       "   angle(X,gravityMean)  angle(Y,gravityMean)  angle(Z,gravityMean)  \n",
       "0             -0.841247              0.179941             -0.058627  \n",
       "1             -0.844788              0.180289             -0.054317  \n",
       "2             -0.848933              0.180637             -0.049118  \n",
       "3             -0.848649              0.181935             -0.047663  \n",
       "4             -0.847865              0.185151             -0.043892  \n",
       "\n",
       "[5 rows x 561 columns]"
      ]
     },
     "execution_count": 13,
     "metadata": {},
     "output_type": "execute_result"
    }
   ],
   "source": [
    "X.head()"
   ]
  },
  {
   "cell_type": "code",
   "execution_count": 14,
   "id": "38d8d530",
   "metadata": {},
   "outputs": [
    {
     "data": {
      "text/plain": [
       "'STANDING'"
      ]
     },
     "execution_count": 14,
     "metadata": {},
     "output_type": "execute_result"
    }
   ],
   "source": [
    "Y[1]"
   ]
  },
  {
   "cell_type": "markdown",
   "id": "31c9dce4",
   "metadata": {},
   "source": [
    "# Checking the datatypes of each feature"
   ]
  },
  {
   "cell_type": "code",
   "execution_count": 15,
   "id": "6c2c671e",
   "metadata": {},
   "outputs": [
    {
     "name": "stdout",
     "output_type": "stream",
     "text": [
      "<class 'pandas.core.frame.DataFrame'>\n",
      "RangeIndex: 7352 entries, 0 to 7351\n",
      "Columns: 561 entries, tBodyAcc-mean()-X to angle(Z,gravityMean)\n",
      "dtypes: float64(561)\n",
      "memory usage: 31.5 MB\n"
     ]
    }
   ],
   "source": [
    "X.info()"
   ]
  },
  {
   "cell_type": "code",
   "execution_count": 17,
   "id": "2dda1703",
   "metadata": {},
   "outputs": [
    {
     "name": "stdout",
     "output_type": "stream",
     "text": [
      "Number of numeric features: 561\n"
     ]
    }
   ],
   "source": [
    "# Total number of Continuous and Categorical features in the training set\n",
    "num_cols = X._get_numeric_data().columns\n",
    "print('Number of numeric features:',num_cols.size)"
   ]
  },
  {
   "cell_type": "markdown",
   "id": "d3d8818b",
   "metadata": {},
   "source": [
    "All features are of the float64 type and all 561 are numeric features, except for Class (y). We have to do Label Encoder and make it into numeric."
   ]
  },
  {
   "cell_type": "markdown",
   "id": "a4951de1",
   "metadata": {},
   "source": [
    "# Transforming non-numerical label into numerical label"
   ]
  },
  {
   "cell_type": "code",
   "execution_count": 18,
   "id": "eafe4c2a",
   "metadata": {},
   "outputs": [],
   "source": [
    "from sklearn import preprocessing \n",
    "encoder = preprocessing.LabelEncoder()"
   ]
  },
  {
   "cell_type": "code",
   "execution_count": 19,
   "id": "fd912daa",
   "metadata": {},
   "outputs": [
    {
     "data": {
      "text/plain": [
       "(7352,)"
      ]
     },
     "execution_count": 19,
     "metadata": {},
     "output_type": "execute_result"
    }
   ],
   "source": [
    "#encoding train labels\n",
    "\n",
    "encoder.fit(Y)\n",
    "y = encoder.transform(Y)\n",
    "y.shape"
   ]
  },
  {
   "cell_type": "code",
   "execution_count": 20,
   "id": "9e51d8bc",
   "metadata": {},
   "outputs": [
    {
     "data": {
      "text/plain": [
       "2"
      ]
     },
     "execution_count": 20,
     "metadata": {},
     "output_type": "execute_result"
    }
   ],
   "source": [
    "y[1]"
   ]
  },
  {
   "cell_type": "code",
   "execution_count": 21,
   "id": "e8587b41",
   "metadata": {},
   "outputs": [
    {
     "data": {
      "text/plain": [
       "array(['LAYING', 'SITTING', 'STANDING', 'WALKING', 'WALKING_DOWNSTAIRS',\n",
       "       'WALKING_UPSTAIRS'], dtype=object)"
      ]
     },
     "execution_count": 21,
     "metadata": {},
     "output_type": "execute_result"
    }
   ],
   "source": [
    "encoder.classes_"
   ]
  },
  {
   "cell_type": "code",
   "execution_count": 22,
   "id": "6ab287a3",
   "metadata": {},
   "outputs": [
    {
     "data": {
      "text/plain": [
       "'STANDING'"
      ]
     },
     "execution_count": 22,
     "metadata": {},
     "output_type": "execute_result"
    }
   ],
   "source": [
    "encoder.classes_[2]"
   ]
  },
  {
   "cell_type": "markdown",
   "id": "0bcab143",
   "metadata": {},
   "source": [
    "# Feature Scaling "
   ]
  },
  {
   "cell_type": "code",
   "execution_count": 23,
   "id": "83e89e6e",
   "metadata": {},
   "outputs": [],
   "source": [
    "# Scaling the feature\n",
    "\n",
    "from sklearn.preprocessing import StandardScaler\n",
    "scaler = StandardScaler()"
   ]
  },
  {
   "cell_type": "code",
   "execution_count": 25,
   "id": "2eb1c845",
   "metadata": {},
   "outputs": [
    {
     "data": {
      "text/plain": [
       "array([ 0.05594788,  0.03148567, -0.25390836, -0.87542555, -0.92390168,\n",
       "       -0.84930444, -0.86853066, -0.92199844, -0.84892814, -0.87135938,\n",
       "       -0.89222832, -0.88919739,  0.89599818,  0.86865566,  0.76650295,\n",
       "       -0.92069378, -0.69321044, -0.7751054 , -0.68758451, -0.84720186,\n",
       "       -0.89918005, -0.82049508, -1.3048928 , -0.83019391, -1.09612841,\n",
       "        2.37604697, -1.75325238,  1.32173624,  0.66992736,  0.55149006,\n",
       "       -0.54554241,  0.64334534, -1.18164246,  0.26766528, -0.25635684,\n",
       "       -0.22540599, -0.61013507,  0.30760857,  0.36578238,  1.23101989,\n",
       "        0.5852968 , -0.40986684,  0.04445061, -0.42168323, -0.39103557,\n",
       "        0.049352  , -0.42422787, -0.38623719,  0.04739076,  0.5644588 ,\n",
       "       -0.43846821,  0.06881901,  0.60165647, -0.37364633,  0.06328303,\n",
       "       -0.76084948,  0.67509357, -0.54965394, -0.53632953, -0.43123632,\n",
       "       -0.36770227,  0.01296575, -0.91072978, -0.46503661,  1.19620895,\n",
       "        0.4949101 , -0.67067971,  0.83501302, -0.9770558 ,  0.50896835,\n",
       "       -0.68737046,  0.8732459 , -1.05247993, -1.49219302,  1.45229383,\n",
       "       -1.39443577,  1.318146  , -1.46154102, -1.07455161,  1.25791486,\n",
       "       -0.02829713, -0.01700931,  0.21307087, -0.85471918, -0.85419383,\n",
       "       -0.80516648, -0.85164893, -0.85296274, -0.80776668, -0.8030044 ,\n",
       "       -0.78404231, -0.75984454,  0.85203779,  0.84845005,  0.7945597 ,\n",
       "       -0.86057804, -0.68186177, -0.7156015 , -0.56713446, -0.83748273,\n",
       "       -0.83896315, -0.81425821, -1.18744329, -0.87207537, -1.0317482 ,\n",
       "        1.97532735, -0.47319318,  1.24214562,  2.09287837,  0.80514501,\n",
       "       -0.00671888,  0.8185568 ,  0.45112431,  0.55572477,  0.49316823,\n",
       "        0.22650574,  0.11384672, -0.25003153,  0.2623385 , -1.31085764,\n",
       "        0.06078811, -0.05839613,  0.10047893, -0.85500405, -0.84340459,\n",
       "       -0.88693527, -0.85978508, -0.84148095, -0.87509188, -0.7847946 ,\n",
       "       -0.79511763, -0.85385361,  0.78179387,  0.80840687,  0.8675341 ,\n",
       "       -0.9267593 , -0.6762154 , -0.60151232, -0.64923372, -0.85755252,\n",
       "       -0.82572474, -0.83736443,  0.3376477 , -1.12573284, -0.22085524,\n",
       "       -0.59018811,  0.16173043,  0.31565924, -0.22528438,  0.73579888,\n",
       "       -1.18059999,  0.67976934, -0.2706149 ,  0.38692876, -0.73818895,\n",
       "        1.100926  , -1.13837787,  0.56423123, -0.65638806,  0.66918849,\n",
       "       -0.09895878, -0.02024188, -0.03777486, -0.83379679, -0.7552369 ,\n",
       "       -0.82711008, -0.83005963, -0.76029316, -0.82926686, -0.82448525,\n",
       "       -0.72198229, -0.82104655,  0.80919518,  0.72017218,  0.77058341,\n",
       "       -0.83046599, -0.60668223, -0.44027464, -0.58645218, -0.82071074,\n",
       "       -0.76088269, -0.82339533, -0.99965771, -1.34950428, -0.98711777,\n",
       "       -0.476411  , -0.54228987,  0.1153836 , -0.64116671,  1.0718949 ,\n",
       "       -1.37291371,  0.48016243, -0.22771227,  0.59841104, -0.92224253,\n",
       "        0.65892441,  0.37823231,  0.91711469, -0.25417572, -0.83236822,\n",
       "       -0.91161272, -0.88508509, -0.88440221, -0.89917962, -0.81806455,\n",
       "       -0.91161272, -0.78293019, -0.87634792, -0.83670697,  0.52224827,\n",
       "       -0.56330593,  0.98598721, -1.33154308, -0.91161272, -0.88508509,\n",
       "       -0.88440221, -0.89917962, -0.81806455, -0.91161272, -0.78293019,\n",
       "       -0.87634792, -0.83670697,  0.52224827, -0.56330593,  0.98598721,\n",
       "       -1.33154308, -0.86145927, -0.85724618, -0.8549865 , -0.85182534,\n",
       "       -0.7829169 , -0.86145927, -0.70587492, -0.84402794, -1.02555594,\n",
       "        1.5570466 , -0.87205661,  0.59500925, -1.59784003, -0.92653404,\n",
       "       -0.90495058, -0.91013557, -0.89052794, -0.82802209, -0.92653404,\n",
       "       -0.7383039 , -0.903347  , -0.82838438, -0.64141374,  0.18155652,\n",
       "        0.17686074,  0.57525856, -0.82384964, -0.78207867, -0.7896863 ,\n",
       "       -0.77058112, -0.74988158, -0.82384964, -0.54177166, -0.79390074,\n",
       "       -1.1954174 , -0.28975396,  0.20985217, -0.24139262,  0.29645158,\n",
       "       -0.87546764, -0.90521141, -0.84603828, -0.87050219, -0.92541033,\n",
       "       -0.83589703, -0.87582399, -0.90990709, -0.85097836, -0.84456486,\n",
       "       -0.8901448 , -0.7945786 , -0.62052562, -0.62401526, -0.5766829 ,\n",
       "       -0.89929947, -0.69140178, -0.80198928, -0.69011976, -0.84495591,\n",
       "       -0.83727248, -0.80631996, -1.08857327, -1.06263244, -0.88865915,\n",
       "        3.32889595, -0.82671111, -0.6433171 ,  1.88370078,  0.12205259,\n",
       "       -0.20620992, -1.39716731, -1.1129648 ,  0.59732187,  0.63312354,\n",
       "        0.72899116,  0.45346495, -0.67010314, -0.62372504, -0.61887024,\n",
       "       -0.57333634, -0.59398858, -0.57048303, -0.51971829, -0.37676289,\n",
       "       -0.68126026, -0.63241665, -0.60525001, -0.48243981, -0.69016009,\n",
       "       -0.60859927, -0.78177854, -0.63824356, -0.63808031, -0.59759838,\n",
       "       -0.58745528, -0.61749208, -0.57780432, -0.37768792, -0.79509275,\n",
       "       -0.6540802 , -0.62445558, -0.53479195, -0.80136427, -0.62957855,\n",
       "       -0.64323745, -0.56604171, -0.49713581, -0.45384583, -0.44997601,\n",
       "       -0.51060507, -0.50705296, -0.34929601, -0.67326384, -0.50777883,\n",
       "       -0.48748836, -0.48561907, -0.68713883, -0.47819393, -0.85206297,\n",
       "       -0.85715076, -0.80743755, -0.85311334, -0.84567477, -0.79721171,\n",
       "       -0.8550486 , -0.85232691, -0.80277046, -0.82916777, -0.82020466,\n",
       "       -0.77074556, -0.60718484, -0.56582896, -0.56321676, -0.86128386,\n",
       "       -0.68179138, -0.7155207 , -0.56703089, -0.83662158, -0.84262642,\n",
       "       -0.80302298, -0.95957578, -0.98538569, -0.97675109,  0.31256671,\n",
       "        1.04058915,  0.03512368,  2.22510569,  0.57154949,  0.67436028,\n",
       "       -1.21212777, -0.92616292, -0.09603616, -0.21545567, -0.83303797,\n",
       "       -0.65916603, -0.62023785, -0.63976736, -0.61088467, -0.56390902,\n",
       "       -0.58872064, -0.57830365, -0.53300752, -0.2740574 , -0.66441471,\n",
       "       -0.62398973, -0.60842489, -0.53275699, -0.68599583, -0.60912577,\n",
       "       -0.72476371, -0.63163899, -0.63966386, -0.58730352, -0.57408231,\n",
       "       -0.61178594, -0.58613103, -0.30661057, -0.68484319, -0.65477375,\n",
       "       -0.61834923, -0.58571959, -0.71096406, -0.62565684, -0.58519785,\n",
       "       -0.55689381, -0.50046942, -0.44476757, -0.42929615, -0.49620086,\n",
       "       -0.50315779, -0.28801485, -0.59861515, -0.50260898, -0.47185925,\n",
       "       -0.50407107, -0.58296794, -0.46957722, -0.8516891 , -0.83675628,\n",
       "       -0.89123299, -0.84744639, -0.83202444, -0.87441215, -0.85643545,\n",
       "       -0.84134459, -0.88903059, -0.81595425, -0.76000256, -0.81180712,\n",
       "       -0.49013584, -0.6176616 , -0.60777146, -0.88740401, -0.63672751,\n",
       "       -0.59236413, -0.63969149, -0.81314282, -0.77402548, -0.81281141,\n",
       "       -0.81860457, -1.14021606, -0.96816724, -0.63306282, -0.66988003,\n",
       "       -0.81232399,  0.20461941, -0.8134218 , -0.07414365, -0.87693066,\n",
       "       -0.89700545,  1.61617995,  1.79588998,  0.18102061,  0.24525519,\n",
       "       -0.5876682 , -0.57809945, -0.56717303, -0.4631707 , -0.45616658,\n",
       "       -0.49613175, -0.42568449, -0.32813216, -0.6252695 , -0.56877715,\n",
       "       -0.48661209, -0.39480161, -0.63457674, -0.48410076, -0.55463055,\n",
       "       -0.40466431, -0.34532433, -0.36378662, -0.36119788, -0.4252922 ,\n",
       "       -0.41524051, -0.31491415, -0.58465529, -0.36844944, -0.38951505,\n",
       "       -0.4095619 , -0.59189907, -0.3793637 , -0.57066863, -0.49288638,\n",
       "       -0.49072622, -0.43177055, -0.43319384, -0.48121813, -0.46352394,\n",
       "       -0.33135935, -0.61428131, -0.50120204, -0.45976284, -0.42120324,\n",
       "       -0.63507374, -0.45219826, -0.87334262, -0.88076156, -0.87459728,\n",
       "       -0.8488099 , -0.59497981, -0.87334262, -0.71078156, -0.82633937,\n",
       "       -0.90637143, -0.9260512 , -0.43889879,  0.68532634,  0.54103646,\n",
       "       -0.85368678, -0.85258514, -0.85547146, -0.82865277, -0.68000232,\n",
       "       -0.85368678, -0.68388283, -0.84329956, -0.97355102,  0.19469849,\n",
       "        1.394609  , -0.86976594, -0.82454072, -0.88084593, -0.89969178,\n",
       "       -0.89633798, -0.88602677, -0.61491455, -0.88084593, -0.65146703,\n",
       "       -0.86035964, -1.03441584, -0.37601469, -0.79761565, -0.2530966 ,\n",
       "       -0.47333381, -0.78515269, -0.76863537, -0.77402953, -0.75186191,\n",
       "       -0.63369756, -0.78515269, -0.46292831, -0.77565799, -1.13397774,\n",
       "       -0.70666073,  0.13061414, -0.8973566 , -0.76798994,  0.13301107,\n",
       "       -0.02146148, -1.21880472,  1.48447023, -0.694138  ,  0.40911698,\n",
       "        0.00787517])"
      ]
     },
     "execution_count": 25,
     "metadata": {},
     "output_type": "execute_result"
    }
   ],
   "source": [
    "X = scaler.fit_transform(X)\n",
    "X[1]"
   ]
  },
  {
   "cell_type": "markdown",
   "id": "ca160fe7",
   "metadata": {},
   "source": [
    "# Spliting X and y into training and validation sets"
   ]
  },
  {
   "cell_type": "code",
   "execution_count": 27,
   "id": "d0fe0a17",
   "metadata": {},
   "outputs": [
    {
     "data": {
      "text/plain": [
       "((5881, 561), (1471, 561), (5881,), (1471,))"
      ]
     },
     "execution_count": 27,
     "metadata": {},
     "output_type": "execute_result"
    }
   ],
   "source": [
    "from sklearn.model_selection import train_test_split\n",
    "\n",
    "X_train, X_valid, y_train, y_valid = train_test_split(X,y, test_size = 0.2, random_state = 99)\n",
    "X_train.shape, X_valid.shape, y_train.shape, y_valid.shape "
   ]
  },
  {
   "cell_type": "markdown",
   "id": "53a29e15",
   "metadata": {},
   "source": [
    "# Training the model"
   ]
  },
  {
   "cell_type": "markdown",
   "id": "d3163aa3",
   "metadata": {},
   "source": [
    "## Running SVM with default hyperparameters"
   ]
  },
  {
   "cell_type": "markdown",
   "id": "fad7cac8",
   "metadata": {},
   "source": [
    "In default hyperparameters, we have C = 1.0, kernel = rbf, and gamma = auto with other parameters"
   ]
  },
  {
   "cell_type": "code",
   "execution_count": 28,
   "id": "81d4b8f5",
   "metadata": {},
   "outputs": [],
   "source": [
    "# Instantiate classifier with default hyperparameters\n",
    "svc = SVC()"
   ]
  },
  {
   "cell_type": "code",
   "execution_count": 31,
   "id": "5bce6f6a",
   "metadata": {},
   "outputs": [
    {
     "data": {
      "text/plain": [
       "SVC()"
      ]
     },
     "execution_count": 31,
     "metadata": {},
     "output_type": "execute_result"
    }
   ],
   "source": [
    "# fit classifier into training set\n",
    "svc.fit(X_train,y_train)"
   ]
  },
  {
   "cell_type": "code",
   "execution_count": 32,
   "id": "10ffd552",
   "metadata": {},
   "outputs": [],
   "source": [
    "# make predictions on test set\n",
    "y_pred = svc.predict(X_valid)"
   ]
  },
  {
   "cell_type": "code",
   "execution_count": 34,
   "id": "14da6a76",
   "metadata": {},
   "outputs": [
    {
     "name": "stdout",
     "output_type": "stream",
     "text": [
      "Model accuracy score with deault hyperparmeters: 0.9803\n"
     ]
    }
   ],
   "source": [
    "# computing and printing the accuracy score\n",
    "print('Model accuracy score with deault hyperparmeters: {0:0.4f}'.format(accuracy_score(y_valid, y_pred)))"
   ]
  },
  {
   "cell_type": "markdown",
   "id": "cb39299e",
   "metadata": {},
   "source": [
    "Here, y_valid are the true class labels and y_pred are the predicted class labels in the test-set."
   ]
  },
  {
   "cell_type": "markdown",
   "id": "a8568931",
   "metadata": {},
   "source": [
    "# Running SVM with rbf kernel and c = 100.0"
   ]
  },
  {
   "cell_type": "markdown",
   "id": "c1c36af4",
   "metadata": {},
   "source": [
    "At times, there are outliers in the dataset, in that case, we increase the value of C as we know that the more high the value of C the fewer the outliers.."
   ]
  },
  {
   "cell_type": "code",
   "execution_count": 35,
   "id": "f86dcb88",
   "metadata": {},
   "outputs": [
    {
     "name": "stdout",
     "output_type": "stream",
     "text": [
      "Model accuracy with rbf kernel and C=100.0 : 0.9918\n"
     ]
    }
   ],
   "source": [
    "# Instantiate classifier with rbf kernel and C = 100.0\n",
    "svc = SVC(C=100.0)\n",
    "\n",
    "# fit classifier to training dataset\n",
    "svc.fit(X_train, y_train)\n",
    "\n",
    "# make predictions on test set\n",
    "y_pred = svc.predict(X_valid)\n",
    "\n",
    "# computing and printing the accuracy score\n",
    "print('Model accuracy with rbf kernel and C=100.0 : {0:0.4f}' . format(accuracy_score(y_valid, y_pred)))"
   ]
  },
  {
   "cell_type": "markdown",
   "id": "4b9bd9cb",
   "metadata": {},
   "source": [
    "Here, we obtained a higher accuracy with C=100.0 as higher C means less outliers, Now we will check for higher C value and find the accuracy."
   ]
  },
  {
   "cell_type": "markdown",
   "id": "417ebd85",
   "metadata": {},
   "source": [
    "# Running SVM with rbf kernel and C = 1000.0 "
   ]
  },
  {
   "cell_type": "code",
   "execution_count": 37,
   "id": "11cc722b",
   "metadata": {},
   "outputs": [
    {
     "name": "stdout",
     "output_type": "stream",
     "text": [
      "Model accuracy with rbf kernel and C=1000.0 : 0.9918\n"
     ]
    }
   ],
   "source": [
    "# instantiate classifier with rbf kernel and C = 1000.0\n",
    "svc = SVC(C=1000.0)\n",
    "\n",
    "# fit classifier to training dataset\n",
    "svc.fit(X_train, y_train)\n",
    "\n",
    "# make predictions on test set\n",
    "y_pred = svc.predict(X_valid)\n",
    "\n",
    "# computing and printing the accuracy score\n",
    "print('Model accuracy with rbf kernel and C=1000.0 : {0:0.4f}' . format(accuracy_score(y_valid, y_pred)))"
   ]
  },
  {
   "cell_type": "markdown",
   "id": "20afc0d0",
   "metadata": {},
   "source": [
    "Accuracy is moreover  same as we had in C = 100.0, or we can say that it has decreased nominally. "
   ]
  },
  {
   "cell_type": "markdown",
   "id": "fbf8189b",
   "metadata": {},
   "source": [
    "# Running SVM with linear kernel"
   ]
  },
  {
   "cell_type": "markdown",
   "id": "5f915aff",
   "metadata": {},
   "source": [
    "Linear kernel with C = 1.0"
   ]
  },
  {
   "cell_type": "code",
   "execution_count": 39,
   "id": "dd328aaf",
   "metadata": {},
   "outputs": [
    {
     "name": "stdout",
     "output_type": "stream",
     "text": [
      "Model accuracy with linear kernel and C = 1.0 : 0.9844\n"
     ]
    }
   ],
   "source": [
    "# instantiate classifier with linear kernel and C = 1.0\n",
    "linear_svc = SVC(kernel='linear', C=1.0)\n",
    "\n",
    "# fit classifier to training dataset\n",
    "linear_svc.fit(X_train, y_train)\n",
    "\n",
    "# make predictions on the test set\n",
    "y_pred = linear_svc.predict(X_valid)\n",
    "\n",
    "# Computing and printing the accuracy score\n",
    "print('Model accuracy with linear kernel and C = 1.0 : {0:0.4f}'. format(accuracy_score(y_valid, y_pred)))"
   ]
  },
  {
   "cell_type": "markdown",
   "id": "0f26d9a5",
   "metadata": {},
   "source": [
    "# Running SVM with linear kernel and C = 100.0"
   ]
  },
  {
   "cell_type": "code",
   "execution_count": 41,
   "id": "6129d585",
   "metadata": {},
   "outputs": [
    {
     "name": "stdout",
     "output_type": "stream",
     "text": [
      "Model accuracy with linear kernel and C=100.0 : 0.9803\n"
     ]
    }
   ],
   "source": [
    "# instantiate the classifier with linear kernel and C = 100.0\n",
    "linear_svc = SVC(kernel='linear', C=100.0)\n",
    "\n",
    "#fit classifier to training dataset\n",
    "linear_svc.fit(X_train, y_train)\n",
    "\n",
    "# make predictions on the test set\n",
    "y_pred = linear_svc.predict(X_valid)\n",
    "\n",
    "# computing and printing the accuracy\n",
    "print('Model accuracy with linear kernel and C=100.0 : {0:0.4f}'. format(accuracy_score(y_valid, y_pred)))"
   ]
  },
  {
   "cell_type": "markdown",
   "id": "4334af10",
   "metadata": {},
   "source": [
    "# Running SVM with linear kernel and C = 1000.0"
   ]
  },
  {
   "cell_type": "code",
   "execution_count": 42,
   "id": "a0c4c3b5",
   "metadata": {},
   "outputs": [
    {
     "name": "stdout",
     "output_type": "stream",
     "text": [
      "Model accuracy with linear kernel and C=100.0 : 0.9803\n"
     ]
    }
   ],
   "source": [
    "# instantiate the classifier with linear kernel and C = 1000.0\n",
    "linear_svc = SVC(kernel='linear', C=1000.0)\n",
    "\n",
    "#fit classifier to training dataset\n",
    "linear_svc.fit(X_train, y_train)\n",
    "\n",
    "# make predictions on the test set\n",
    "y_pred = linear_svc.predict(X_valid)\n",
    "\n",
    "# computing and printing the accuracy\n",
    "print('Model accuracy with linear kernel and C=100.0 : {0:0.4f}'. format(accuracy_score(y_valid, y_pred)))"
   ]
  },
  {
   "cell_type": "markdown",
   "id": "29c3be05",
   "metadata": {},
   "source": [
    "Here, we observe that we get higher accuracy with C=100.0 and C=1000.0 as compared to C=1.0"
   ]
  },
  {
   "cell_type": "markdown",
   "id": "f65b7bb3",
   "metadata": {},
   "source": [
    "# Comparing the train-set and test-set accuracy "
   ]
  },
  {
   "cell_type": "markdown",
   "id": "b170b39d",
   "metadata": {},
   "source": [
    "Comparing so as to check for overfitting."
   ]
  },
  {
   "cell_type": "code",
   "execution_count": 43,
   "id": "73ef3239",
   "metadata": {},
   "outputs": [
    {
     "data": {
      "text/plain": [
       "array([5, 0, 1, ..., 2, 1, 1])"
      ]
     },
     "execution_count": 43,
     "metadata": {},
     "output_type": "execute_result"
    }
   ],
   "source": [
    "y_pred_train = linear_svc.predict(X_train)\n",
    "y_pred_train"
   ]
  },
  {
   "cell_type": "code",
   "execution_count": 47,
   "id": "3896142f",
   "metadata": {},
   "outputs": [
    {
     "name": "stdout",
     "output_type": "stream",
     "text": [
      "Training-set accuracy score : 1.0000\n"
     ]
    }
   ],
   "source": [
    "print('Training-set accuracy score : {0:0.4f}'. format(accuracy_score(y_train, y_pred_train)))"
   ]
  },
  {
   "cell_type": "markdown",
   "id": "666b08fb",
   "metadata": {},
   "source": [
    "We can see that training set and test-set accuracy are very much comparable."
   ]
  },
  {
   "cell_type": "markdown",
   "id": "19b8fccc",
   "metadata": {},
   "source": [
    "# Checking for overfitting and underfitting"
   ]
  },
  {
   "cell_type": "code",
   "execution_count": 48,
   "id": "71215838",
   "metadata": {},
   "outputs": [
    {
     "name": "stdout",
     "output_type": "stream",
     "text": [
      "Training set score: 1.0000\n",
      "Validation set score: 0.9803\n"
     ]
    }
   ],
   "source": [
    "print('Training set score: {:.4f}'.format(linear_svc.score(X_train, y_train)))\n",
    "\n",
    "print('Validation set score: {:.4f}'.format(linear_svc.score(X_valid, y_valid)))"
   ]
  },
  {
   "cell_type": "markdown",
   "id": "26855858",
   "metadata": {},
   "source": [
    "The training-set accuracy score is 100 while the validation-set accuracy to be 98.03. These two values are quite comparable. So, there is no overfitting."
   ]
  },
  {
   "cell_type": "markdown",
   "id": "733fccd4",
   "metadata": {},
   "source": [
    "# Running SVM with polynomial kernel and C = 1.0"
   ]
  },
  {
   "cell_type": "code",
   "execution_count": 57,
   "id": "aa8dd326",
   "metadata": {},
   "outputs": [
    {
     "name": "stdout",
     "output_type": "stream",
     "text": [
      "Model accuracy score with polynomial kernel and C=1.0 : 0.9721\n"
     ]
    }
   ],
   "source": [
    "# instantiate classifier with polynomial kernel with C = 1.0\n",
    "poly_svc = SVC(kernel='poly', C=1.0)\n",
    "\n",
    "#fit classifier to training set\n",
    "poly_svc.fit(X_train, y_train)\n",
    "\n",
    "#make prediction on test sets\n",
    "y_pred = poly_svc.predict(X_valid)\n",
    "\n",
    "#computing and printing the accuracy\n",
    "print('Model accuracy score with polynomial kernel and C=1.0 : {0:0.4f}' . format(accuracy_score(y_valid, y_pred)))"
   ]
  },
  {
   "cell_type": "markdown",
   "id": "8dabe28e",
   "metadata": {},
   "source": [
    "# Running SVM with polynomial kernel and C = 100.0"
   ]
  },
  {
   "cell_type": "code",
   "execution_count": 58,
   "id": "8aaef225",
   "metadata": {},
   "outputs": [
    {
     "name": "stdout",
     "output_type": "stream",
     "text": [
      "Model accuracy score with polynomial kernel and C=1.0 : 0.9878\n"
     ]
    }
   ],
   "source": [
    "# instantiate classifier with polynomial kernel with C = 100.0\n",
    "poly_svc = SVC(kernel='poly', C=100.0)\n",
    "\n",
    "#fit classifier to training set\n",
    "poly_svc.fit(X_train, y_train)\n",
    "\n",
    "# make prediction on test sets\n",
    "y_pred = poly_svc.predict(X_valid)\n",
    "\n",
    "# computing and printing the accuracy\n",
    "print('Model accuracy score with polynomial kernel and C=1.0 : {0:0.4f}' . format(accuracy_score(y_valid, y_pred)))"
   ]
  },
  {
   "cell_type": "markdown",
   "id": "ea2a08b9",
   "metadata": {},
   "source": [
    "Polynomial kernel gives poor performance, it may be overfitting the dataset."
   ]
  },
  {
   "cell_type": "markdown",
   "id": "4424d90c",
   "metadata": {},
   "source": [
    "# Running SVM with sigmoid kernel  "
   ]
  },
  {
   "cell_type": "code",
   "execution_count": 59,
   "id": "68c794c3",
   "metadata": {},
   "outputs": [
    {
     "name": "stdout",
     "output_type": "stream",
     "text": [
      "Model accuracy score with sigmoid kernel and C=1.0 : 0.8946\n"
     ]
    }
   ],
   "source": [
    "# instantiate classifier with sigmoid kernel with C = 1.0\n",
    "sigmoid_svc = SVC(kernel='sigmoid', C=1.0)\n",
    "\n",
    "# fit classifier to training set\n",
    "sigmoid_svc.fit(X_train, y_train)\n",
    "\n",
    "# make prediction on test sets\n",
    "y_pred = sigmoid_svc.predict(X_valid)\n",
    "\n",
    "#computing and printing the accuracy\n",
    "print('Model accuracy score with sigmoid kernel and C=1.0 : {0:0.4f}' . format(accuracy_score(y_valid, y_pred)))"
   ]
  },
  {
   "cell_type": "markdown",
   "id": "a30cedb5",
   "metadata": {},
   "source": [
    "# Running SVM with sigmoid kernel with C = 100.0"
   ]
  },
  {
   "cell_type": "code",
   "execution_count": 60,
   "id": "c24b5e48",
   "metadata": {},
   "outputs": [
    {
     "name": "stdout",
     "output_type": "stream",
     "text": [
      "Model accuracy score with sigmoid kernel and C=1.0 : 0.8477\n"
     ]
    }
   ],
   "source": [
    "# instantiate classifier with sigmoid kernel with C = 100.0\n",
    "sigmoid_svc = SVC(kernel='sigmoid', C=100.0)\n",
    "\n",
    "# fit classifier to training set\n",
    "sigmoid_svc.fit(X_train, y_train)\n",
    "\n",
    "# make prediction on test sets\n",
    "y_pred = sigmoid_svc.predict(X_valid)\n",
    "\n",
    "#computing and printing the accuracy\n",
    "print('Model accuracy score with sigmoid kernel and C=1.0 : {0:0.4f}' . format(accuracy_score(y_valid, y_pred)))"
   ]
  },
  {
   "cell_type": "markdown",
   "id": "b51c41d0",
   "metadata": {},
   "source": [
    "We can see that is also performing poorly like polynomial kernel"
   ]
  },
  {
   "cell_type": "markdown",
   "id": "de0bb694",
   "metadata": {},
   "source": [
    "# Hyperparameter tuning using grid search and cross validation"
   ]
  },
  {
   "cell_type": "code",
   "execution_count": 61,
   "id": "81f8b299",
   "metadata": {},
   "outputs": [],
   "source": [
    "# Create the parameter grid based on the results of random search \n",
    "params_grid = [{'kernel':['rbf'], 'gamma': [1e-3, 1e-4],\n",
    "                'C': [1,10,100,1000]}, \n",
    "               {'kernel': ['linear'], 'C': [1,10,100,1000]}]"
   ]
  },
  {
   "cell_type": "code",
   "execution_count": 76,
   "id": "b20e4b66",
   "metadata": {},
   "outputs": [
    {
     "data": {
      "text/plain": [
       "GridSearchCV(cv=5, estimator=SVC(),\n",
       "             param_grid=[{'C': [1, 10, 100, 1000], 'gamma': [0.001, 0.0001],\n",
       "                          'kernel': ['rbf']},\n",
       "                         {'C': [1, 10, 100, 1000], 'kernel': ['linear']}])"
      ]
     },
     "execution_count": 76,
     "metadata": {},
     "output_type": "execute_result"
    }
   ],
   "source": [
    "# Performing CV to tune parameters for best SVM fit\n",
    "svm_model = GridSearchCV(SVC(), params_grid, cv=5)\n",
    "svm_model.fit(X_train, y_train)"
   ]
  },
  {
   "cell_type": "markdown",
   "id": "52be8f8c",
   "metadata": {},
   "source": [
    "# Confusion Matrix and Accuracy Score"
   ]
  },
  {
   "cell_type": "code",
   "execution_count": 79,
   "id": "36dceed0",
   "metadata": {},
   "outputs": [
    {
     "name": "stdout",
     "output_type": "stream",
     "text": [
      "Best score for training data: 0.983846716256596 \n",
      "\n",
      "Best C: 100 \n",
      "\n",
      "Best kernel: rbf \n",
      "\n",
      "Best gamma: 0.001 \n",
      "\n"
     ]
    }
   ],
   "source": [
    "# view the accuracy score\n",
    "print('Best score for training data:', svm_model.best_score_,\"\\n\")\n",
    "\n",
    "# view the best parameter for the model using grid search\n",
    "print('Best C:', svm_model.best_estimator_.C,\"\\n\")\n",
    "print('Best kernel:', svm_model.best_estimator_.kernel,\"\\n\")\n",
    "print('Best gamma:', svm_model.best_estimator_.gamma,\"\\n\")\n",
    "\n",
    "final_model = svm_model.best_estimator_\n",
    "Y_pred = final_model.predict(X_valid)\n",
    "Y_pred_label = list(encoder.inverse_transform(Y_pred))"
   ]
  },
  {
   "cell_type": "code",
   "execution_count": 80,
   "id": "3a277945",
   "metadata": {},
   "outputs": [
    {
     "name": "stdout",
     "output_type": "stream",
     "text": [
      "[[249   0   0   0   0   0]\n",
      " [  0 272   5   0   0   0]\n",
      " [  0   9 284   0   0   0]\n",
      " [  0   0   0 251   0   0]\n",
      " [  0   0   0   0 186   0]\n",
      " [  0   0   0   0   0 215]]\n",
      "\n",
      "\n",
      "              precision    recall  f1-score   support\n",
      "\n",
      "           0       1.00      1.00      1.00       249\n",
      "           1       0.97      0.98      0.97       277\n",
      "           2       0.98      0.97      0.98       293\n",
      "           3       1.00      1.00      1.00       251\n",
      "           4       1.00      1.00      1.00       186\n",
      "           5       1.00      1.00      1.00       215\n",
      "\n",
      "    accuracy                           0.99      1471\n",
      "   macro avg       0.99      0.99      0.99      1471\n",
      "weighted avg       0.99      0.99      0.99      1471\n",
      "\n",
      "Training set score for SVM: 1.000000\n",
      "Validation set score for SVM: 0.990483\n"
     ]
    }
   ],
   "source": [
    "# Making the Confusion Matrix\n",
    "#print(pd.crosstab(Y_test_label, Y_pred_label, rownames=['Actual Activity'], colnames=['Predicted Activity']))\n",
    "print(confusion_matrix(y_valid,Y_pred))\n",
    "print(\"\\n\")\n",
    "print(classification_report(y_valid,Y_pred))\n",
    "\n",
    "print(\"Training set score for SVM: %f\" % final_model.score(X_train , y_train))\n",
    "print(\"Validation set score for SVM: %f\" % final_model.score(X_valid  , y_valid ))\n",
    "\n",
    "# svm_model.score"
   ]
  },
  {
   "cell_type": "markdown",
   "id": "81594225",
   "metadata": {},
   "source": [
    "# Final observation"
   ]
  },
  {
   "cell_type": "markdown",
   "id": "4eae83ac",
   "metadata": {},
   "source": [
    "It is seen that we obtain maximum accuracy with rbf and linear kernels, with C = 100.0, the above model is having great \n",
    "accuracy and predicting the class labels."
   ]
  },
  {
   "cell_type": "code",
   "execution_count": null,
   "id": "f054518d",
   "metadata": {},
   "outputs": [],
   "source": []
  }
 ],
 "metadata": {
  "kernelspec": {
   "display_name": "Python 3",
   "language": "python",
   "name": "python3"
  },
  "language_info": {
   "codemirror_mode": {
    "name": "ipython",
    "version": 3
   },
   "file_extension": ".py",
   "mimetype": "text/x-python",
   "name": "python",
   "nbconvert_exporter": "python",
   "pygments_lexer": "ipython3",
   "version": "3.8.8"
  }
 },
 "nbformat": 4,
 "nbformat_minor": 5
}
