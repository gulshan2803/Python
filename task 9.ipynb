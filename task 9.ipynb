{
 "cells": [
  {
   "cell_type": "code",
   "execution_count": 4,
   "id": "2493b08f",
   "metadata": {},
   "outputs": [
    {
     "name": "stdout",
     "output_type": "stream",
     "text": [
      "Enter the 1st number\n",
      "45\n",
      "Enter the 2nd number\n",
      "5\n",
      "Enter the choice\n",
      "4\n",
      "9.0\n"
     ]
    }
   ],
   "source": [
    "#Task9\n",
    "#Ask 2 numbers from users and store it in num1 and num2\n",
    "#Ask user to press 1 for addition,2 for subtraction,3 for multiplication and 4 for division\n",
    "#based on number given by user do the math operation\n",
    "\n",
    "\n",
    "\n",
    "num1 = input(\"Enter the 1st number\\n\")\n",
    "num2 = input(\"Enter the 2nd number\\n\")\n",
    "num1 = int(num1)\n",
    "num2 = int(num2)\n",
    "ch = input(\"Enter the choice\\n\")\n",
    "ch = int(ch)\n",
    "\n",
    "if (ch == 1):\n",
    "    print(num1+num2)\n",
    "elif (ch == 2):\n",
    "    print(num1-num2)\n",
    "elif (ch == 3):\n",
    "    print(num1*num2)\n",
    "elif (ch == 4):\n",
    "    print(num1/num2)\n",
    "else:\n",
    "    print(\"Invalid input\")\n"
   ]
  },
  {
   "cell_type": "code",
   "execution_count": null,
   "id": "9822903e",
   "metadata": {},
   "outputs": [],
   "source": []
  },
  {
   "cell_type": "code",
   "execution_count": null,
   "id": "345ce1d1",
   "metadata": {},
   "outputs": [],
   "source": []
  }
 ],
 "metadata": {
  "kernelspec": {
   "display_name": "Python 3",
   "language": "python",
   "name": "python3"
  },
  "language_info": {
   "codemirror_mode": {
    "name": "ipython",
    "version": 3
   },
   "file_extension": ".py",
   "mimetype": "text/x-python",
   "name": "python",
   "nbconvert_exporter": "python",
   "pygments_lexer": "ipython3",
   "version": "3.8.8"
  }
 },
 "nbformat": 4,
 "nbformat_minor": 5
}
