{
 "cells": [
  {
   "cell_type": "code",
   "execution_count": null,
   "id": "276ae74c",
   "metadata": {},
   "outputs": [],
   "source": [
    "# task 3.1\n",
    "\"remove() -It is an inbuilt function that removes a given object from the list.\"\n",
    "\"count() - It returns the number of times the specified element appears in the list.\"\n",
    "\"clear() - It removes all the items from the list.\"\n",
    "\"sort() - It sorts the elements of a given list in a specific ascending or descending order.\"\n",
    "\"reverse() - It reverses the elements of the list.\""
   ]
  },
  {
   "cell_type": "code",
   "execution_count": 2,
   "id": "b9ab81d7",
   "metadata": {},
   "outputs": [
    {
     "name": "stdout",
     "output_type": "stream",
     "text": [
      "[5, 6, 7, 8]\n"
     ]
    }
   ],
   "source": [
    "# task 3.2\n",
    "# create a list of lenght = 10 and access 5th to 8th data.\n",
    "list1=[1,2,3,4,5,6,7,8,9,10]\n",
    "print(list1[4:8])"
   ]
  },
  {
   "cell_type": "code",
   "execution_count": 36,
   "id": "92a8253d",
   "metadata": {},
   "outputs": [
    {
     "name": "stdout",
     "output_type": "stream",
     "text": [
      "[10, 20, [30, 40, [50, 60, 70], 80], 90, 100]\n"
     ]
    }
   ],
   "source": [
    "#task 4.1\n",
    "#Add item 70 after 60 in the following Python List\n",
    "#input l1 = [10, 20, [30, 40, [50, 60], 80], 90, 100]\n",
    "#output [10, 20, [30, 40, [50, 60, 70], 80], 90, 100]\n",
    "l1 = [10, 20, [30, 40, [50, 60], 80], 90, 100]\n",
    "l1[2][2].append(70)\n",
    "print(l1)"
   ]
  },
  {
   "cell_type": "code",
   "execution_count": 44,
   "id": "6f2c201e",
   "metadata": {},
   "outputs": [
    {
     "name": "stdout",
     "output_type": "stream",
     "text": [
      "[1, 2, [3, 4, 5, 6, [7, 8]], 9]\n"
     ]
    }
   ],
   "source": [
    "#task 4.2\n",
    "#add sublist [7,8] after 6\n",
    "#input l2 = [1,2,[3,4,5,6],9]\n",
    "#output [1,2,[3,4,5,6,[7,8]],9]\n",
    "l2 = [1,2,[3,4,5,6],9]\n",
    "l2[2].extend([[7,8]])\n",
    "print(l2)"
   ]
  },
  {
   "cell_type": "code",
   "execution_count": null,
   "id": "4b2f98c4",
   "metadata": {},
   "outputs": [],
   "source": []
  }
 ],
 "metadata": {
  "kernelspec": {
   "display_name": "Python 3",
   "language": "python",
   "name": "python3"
  },
  "language_info": {
   "codemirror_mode": {
    "name": "ipython",
    "version": 3
   },
   "file_extension": ".py",
   "mimetype": "text/x-python",
   "name": "python",
   "nbconvert_exporter": "python",
   "pygments_lexer": "ipython3",
   "version": "3.8.8"
  }
 },
 "nbformat": 4,
 "nbformat_minor": 5
}
