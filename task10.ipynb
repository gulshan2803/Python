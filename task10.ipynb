{
 "cells": [
  {
   "cell_type": "code",
   "execution_count": null,
   "id": "e8e126f0",
   "metadata": {},
   "outputs": [],
   "source": [
    "# Task 10.1 = what is the uasge of continue wiith an example.\n",
    "# continue - The continue statement rejects all the remaining statements in the current iteration of the loop and moves the \n",
    "# control back to the top of the loop. \n"
   ]
  },
  {
   "cell_type": "code",
   "execution_count": 1,
   "id": "5bcec81f",
   "metadata": {},
   "outputs": [
    {
     "name": "stdout",
     "output_type": "stream",
     "text": [
      "1 2 3 4 5 7 8 9 10 "
     ]
    }
   ],
   "source": [
    "# Example \n",
    "for i in range(1, 11):\n",
    "    if i == 6:\n",
    "        continue\n",
    "    else:\n",
    "        print(i, end=\" \")\n",
    " "
   ]
  },
  {
   "cell_type": "code",
   "execution_count": null,
   "id": "2fe2ef2f",
   "metadata": {},
   "outputs": [],
   "source": [
    "# When the value of i = 6, the loop moves back to the top."
   ]
  },
  {
   "cell_type": "code",
   "execution_count": null,
   "id": "6c1e242a",
   "metadata": {},
   "outputs": [],
   "source": [
    "# Pass - pass is used when the user doesn’t want any code to execute. So user can simply place pass where empty code is not\n",
    "# allowed, like in loops, function definitions, class definitions, or in if statements. So using pass statement user avoids\n",
    "# this error. "
   ]
  },
  {
   "cell_type": "code",
   "execution_count": 2,
   "id": "ebda2392",
   "metadata": {},
   "outputs": [],
   "source": [
    "# Example\n",
    "class Soft:\n",
    "    pass\n"
   ]
  },
  {
   "cell_type": "code",
   "execution_count": 9,
   "id": "79b809d8",
   "metadata": {},
   "outputs": [
    {
     "name": "stdout",
     "output_type": "stream",
     "text": [
      "List of Numbers from 10 to 1:\n",
      "10987654321"
     ]
    }
   ],
   "source": [
    "# using while loop print numbers from 10 to 1\n",
    "\n",
    "i = 10\n",
    "num = 1\n",
    "print(\"List of Numbers from 10 to {0}:\".format(num))\n",
    "while(i>=num):\n",
    "    print(i, end='')\n",
    "    i-=1"
   ]
  },
  {
   "cell_type": "code",
   "execution_count": 10,
   "id": "4f4871d3",
   "metadata": {},
   "outputs": [
    {
     "name": "stdout",
     "output_type": "stream",
     "text": [
      "color\n",
      "fruit\n",
      "pet\n",
      "('color', 'blue')\n",
      "('fruit', 'apple')\n",
      "('pet', 'dog')\n"
     ]
    }
   ],
   "source": [
    "#for loop to iterate through dictionary\n",
    "colors_dict = {'color': 'blue', 'fruit': 'apple', 'pet': 'dog'}\n",
    " \n",
    "for key in colors_dict.keys():\n",
    "    print(key)\n",
    " \n",
    "for item in colors_dict.items():\n",
    "    print(item)"
   ]
  },
  {
   "cell_type": "code",
   "execution_count": 11,
   "id": "c18f94f1",
   "metadata": {},
   "outputs": [
    {
     "name": "stdout",
     "output_type": "stream",
     "text": [
      "green\n",
      "blue\n",
      "red\n"
     ]
    }
   ],
   "source": [
    "#for loop Iterating over set \n",
    "colorSet = set([\"red\",\"green\",\"blue\"])\n",
    " \n",
    "for color in colorSet:\n",
    "    print(color)"
   ]
  },
  {
   "cell_type": "code",
   "execution_count": 13,
   "id": "447a154f",
   "metadata": {},
   "outputs": [
    {
     "name": "stdout",
     "output_type": "stream",
     "text": [
      "A tuple (1, 2)\n",
      "A tuple (3, 4)\n",
      "A tuple (5, 6)\n"
     ]
    }
   ],
   "source": [
    "#for loop Iterating over tuple\n",
    "x = [(1,2), (3,4), (5,6)]\n",
    "for item in x:\n",
    "    print(\"A tuple\", item)\n",
    "    "
   ]
  },
  {
   "cell_type": "code",
   "execution_count": null,
   "id": "03d6e366",
   "metadata": {},
   "outputs": [],
   "source": []
  }
 ],
 "metadata": {
  "kernelspec": {
   "display_name": "Python 3",
   "language": "python",
   "name": "python3"
  },
  "language_info": {
   "codemirror_mode": {
    "name": "ipython",
    "version": 3
   },
   "file_extension": ".py",
   "mimetype": "text/x-python",
   "name": "python",
   "nbconvert_exporter": "python",
   "pygments_lexer": "ipython3",
   "version": "3.8.8"
  }
 },
 "nbformat": 4,
 "nbformat_minor": 5
}
