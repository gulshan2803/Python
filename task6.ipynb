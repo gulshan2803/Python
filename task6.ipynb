{
 "cells": [
  {
   "cell_type": "code",
   "execution_count": 2,
   "id": "8fa4594a",
   "metadata": {},
   "outputs": [],
   "source": [
    "#Add and remove the elements from a tuple.\n",
    "tup1 = (1,2,5,6.6,9.5,True,False,\"Data\",\"Variable\")\n",
    "list1 = list(tup1)"
   ]
  },
  {
   "cell_type": "code",
   "execution_count": 3,
   "id": "2323cea0",
   "metadata": {},
   "outputs": [
    {
     "data": {
      "text/plain": [
       "[1, 2, 5, 6.6, 9.5, True, False, 'Data', 'Variable']"
      ]
     },
     "execution_count": 3,
     "metadata": {},
     "output_type": "execute_result"
    }
   ],
   "source": [
    "list1"
   ]
  },
  {
   "cell_type": "code",
   "execution_count": 5,
   "id": "d3639bba",
   "metadata": {},
   "outputs": [
    {
     "data": {
      "text/plain": [
       "[1, 2, 90, 5, 6.6, 9.5, True, False, 'Data', 'Variable']"
      ]
     },
     "execution_count": 5,
     "metadata": {},
     "output_type": "execute_result"
    }
   ],
   "source": [
    "#Adding 90 to the list\n",
    "list1.insert(2,90)\n",
    "list1"
   ]
  },
  {
   "cell_type": "code",
   "execution_count": 7,
   "id": "df862f4c",
   "metadata": {},
   "outputs": [
    {
     "data": {
      "text/plain": [
       "[1, 2, 90, 5, 6.6, True, False, 'Data', 'Variable']"
      ]
     },
     "execution_count": 7,
     "metadata": {},
     "output_type": "execute_result"
    }
   ],
   "source": [
    "#Removing elements\n",
    "list1.remove(9.5)\n",
    "list1"
   ]
  },
  {
   "cell_type": "code",
   "execution_count": null,
   "id": "9104c01c",
   "metadata": {},
   "outputs": [],
   "source": [
    "tup1=tuple(list1)"
   ]
  }
 ],
 "metadata": {
  "kernelspec": {
   "display_name": "Python 3",
   "language": "python",
   "name": "python3"
  },
  "language_info": {
   "codemirror_mode": {
    "name": "ipython",
    "version": 3
   },
   "file_extension": ".py",
   "mimetype": "text/x-python",
   "name": "python",
   "nbconvert_exporter": "python",
   "pygments_lexer": "ipython3",
   "version": "3.8.8"
  }
 },
 "nbformat": 4,
 "nbformat_minor": 5
}
