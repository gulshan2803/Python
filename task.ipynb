{
 "cells": [
  {
   "cell_type": "code",
   "execution_count": 1,
   "id": "9872ed52",
   "metadata": {},
   "outputs": [
    {
     "name": "stdout",
     "output_type": "stream",
     "text": [
      "Word present\n"
     ]
    }
   ],
   "source": [
    "# Task 2\n",
    "str1 = \"Welcome to python\"\n",
    "word = \"to\"\n",
    "if word in str1:\n",
    "    print (\"Word present\")"
   ]
  },
  {
   "cell_type": "code",
   "execution_count": null,
   "id": "6a66e8c7",
   "metadata": {},
   "outputs": [],
   "source": []
  }
 ],
 "metadata": {
  "kernelspec": {
   "display_name": "Python 3",
   "language": "python",
   "name": "python3"
  },
  "language_info": {
   "codemirror_mode": {
    "name": "ipython",
    "version": 3
   },
   "file_extension": ".py",
   "mimetype": "text/x-python",
   "name": "python",
   "nbconvert_exporter": "python",
   "pygments_lexer": "ipython3",
   "version": "3.8.8"
  }
 },
 "nbformat": 4,
 "nbformat_minor": 5
}
